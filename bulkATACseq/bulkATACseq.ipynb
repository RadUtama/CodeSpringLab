{
 "cells": [
  {
   "cell_type": "markdown",
   "metadata": {},
   "source": [
    "<div>\n",
    "<img src=\"../scripts_DoNotTouch/Logo.png\" width=\"150\"/>\n",
    "</div>"
   ]
  },
  {
   "cell_type": "markdown",
   "metadata": {},
   "source": [
    "# Welcome to CodeSpringLab for Bulk ATAC-seq Analysis\n",
    "<a id='starting_point'></a>\n",
    "#### <font color='gray'> Created by Raditya Utama and Alex Dobin (Bioinformatics Shared Resources/BSR)\n",
    "#### <font color='gray'> Version 1 - October 2023\n",
    "#### <font color='gray'> Workflow\n",
    "#### <font color='white'> .\n",
    "<div>\n",
    "<img src=\"../scripts_DoNotTouch/flowchart_atac.png\" width=\"1200\"/>\n",
    "</div>"
   ]
  },
  {
   "cell_type": "markdown",
   "metadata": {},
   "source": [
    "### ======================================================================================"
   ]
  },
  {
   "cell_type": "markdown",
   "metadata": {},
   "source": [
    "## <font color='darkred'> README\n",
    "#### - If there's a 'Not Trusted' toggle on the upper right, click on it to change it to 'Trusted' \n",
    "#### - Click on 'Kernel' menu above, go to 'Change kernel', and select 'Python/3.7.4 (src)' \n",
    "#### - Click restart symbol button on the menu above (below 'Kernel' menu) after downloading this notebook for the first time\n",
    "#### - If you're new to Jupyter notebook, you just have to hold <font color='darkred'> \"shift\" <font color='black'> and press <font color='darkred'> \"return/enter\" <font color='black'> to run each cell\n",
    "#### [Click here to watch basic Jupyter guide](https://youtu.be/jZ952vChhuI)\n",
    "#### - Copy + paste, or type any info if prompted by <font color='darkred'> fill-in-box <font color='black'> while running a cell\n",
    "#### - Running cell will have asterisk sign <font color='darkred'> [*] <font color='black'>  on its left. Any other cells can only run after the sign disappears\n",
    "#### - For the same <font color='darkred'> project name <font color='black'>, any output files will be <font color='darkred'> overwritten <font color='black'> when you rerun the same cell\n",
    "#### - Analyses will be submitted to our HPC cluster nodes to distribute multiple jobs simultaneously\n",
    "#### - Prepare <font color='darkred'> design_matrix.txt <font color='black'> file with a format below. Specifiy the path to folder where it's stored. <font color='darkred'>(Ignore this if you just want to use our example dataset)<font color='black'>\n",
    "All entries besides the last column entry should not contain space or hyphen. Header names can be <font color='darkred'> anything <font color='black'> you want and everything should be <font color='darkred'> tab <font color='black'> separated. First column should be unique sample names. Last column should contain the fastq file names <font color='darkred'> [any label]_R1_001.fastq.gz <font color='black'> and <font color='darkred'> [any label]_R2_001.fastq.gz <font color='black'> separated by anything except tab. There should be at least 1 column in between, which provides the conditions you want to compare (e.g control, treated). If you have more than 1 column in between, those columns will be included in the expression linear model. Example below:\n",
    "#### <font color='white'> .\n",
    "<div>\n",
    "<img src=\"../scripts_DoNotTouch/design_matrix.png\" width=\"700\"/>\n",
    "</div>\n"
   ]
  },
  {
   "cell_type": "markdown",
   "metadata": {},
   "source": [
    "### ======================================================================================"
   ]
  },
  {
   "cell_type": "markdown",
   "metadata": {},
   "source": [
    "# <font color='darkred'> Here's the link if you need to jump to specific step: (see requirements)\n",
    "#### 1. Link to QC step (requires reads folder initialization): [FastQC](#fastqc_point)\n",
    "#### 2. Link to adapter trimming step (requires reads folder initialization): [Cutadapt](#cutadapt_point)\n",
    "#### 3. Link to alignment step (requires results from Cutadapt): [Bowtie2](#bowtie2_point)\n",
    "#### 4. Link to peak calling step (requires results from Bowtie2): [MACS2](#macs2_point)\n",
    "#### 5. Link to differential analysis step (requires results from Bowtie2 and MACS2): [Homer](#homer_point)\n",
    "#### 6. Link to visualization step (requires results from MACS2): [Visualization](#visualization_point)\n",
    "#### 7. Link to find your result contents, locations, and copy to you local computer: [Find and copy results](#FindCopyResults_point)"
   ]
  },
  {
   "cell_type": "markdown",
   "metadata": {},
   "source": [
    "### ======================================================================================"
   ]
  },
  {
   "cell_type": "markdown",
   "metadata": {},
   "source": [
    "# <font color='darkblue'> Reads folder initialization\n",
    "### Please specify the genome, path to the original read files, and design matrix folders\n",
    "# <font color='darkred'> All required"
   ]
  },
  {
   "cell_type": "markdown",
   "metadata": {},
   "source": [
    "### Examples ###\n",
    "\n",
    "#### Path/folder provided by sequencing core would look as follows: <font color='darkred'>(this folder doesn't exist, just for display)<font color='black'>\n",
    "/mnt/grid/ngs/data/Elzar_Illumina/Lab/221214_NB501555_1107_AH73CNAFX5/Data/Intensities/BaseCalls/311964/\n",
    "#### or type the following to use our example data\n",
    "~/CodeSpringLab/scripts_DoNotTouch/test/fastq_atac/\n",
    "\n",
    "#### Original and destination read folders will be stored in variables:\n",
    "read_path_original, read_path_destination\n",
    "\n",
    "#### Genome and read pairing info will be stored in variables:\n",
    "genome, pairing\n"
   ]
  },
  {
   "cell_type": "code",
   "execution_count": 1,
   "metadata": {},
   "outputs": [
    {
     "name": "stdout",
     "output_type": "stream",
     "text": [
      "Do you want to use your most recent project name, genome, design matrix, and reads folders:(e.g y/n)\n",
      "y\n"
     ]
    }
   ],
   "source": [
    "\n",
    "import sys, pandas as pd, os, time, re; from IPython.display import Image; sys.path.append('../scripts_DoNotTouch/'); import make_config as mc; mc.config()\n",
    "import bulkATACseq as csl\n",
    "\n",
    "read_path_original,read_path_destination,scriptpath_copy,genome,pairing,inpath_design = csl.filetransfer_Prep()\n"
   ]
  },
  {
   "cell_type": "markdown",
   "metadata": {},
   "source": [
    "### ======================================================================================"
   ]
  },
  {
   "cell_type": "markdown",
   "metadata": {},
   "source": [
    "# <font color='darkblue'> Copy raw read files (Fastq) to csl_results folder"
   ]
  },
  {
   "cell_type": "markdown",
   "metadata": {},
   "source": [
    "### File transfer step: Run copying command from original to destination folders"
   ]
  },
  {
   "cell_type": "code",
   "execution_count": 2,
   "metadata": {},
   "outputs": [
    {
     "name": "stdout",
     "output_type": "stream",
     "text": [
      "All jobs done !\n",
      ".........................\n",
      "Running time: 0.17 minutes\n"
     ]
    }
   ],
   "source": [
    "\n",
    "if 'jobid_Copy' in globals(): csl.DeleteJobs(jobid_Copy)\n",
    "jobid_Copy = csl.filetransfer_Copy(read_path_original,scriptpath_copy); csl.Qstat(jobid_Copy)\n"
   ]
  },
  {
   "cell_type": "markdown",
   "metadata": {},
   "source": [
    "### ======================================================================================"
   ]
  },
  {
   "cell_type": "markdown",
   "metadata": {},
   "source": [
    "# <font color='darkblue'> Check and convert step"
   ]
  },
  {
   "cell_type": "markdown",
   "metadata": {},
   "source": [
    "### Check if the copied files already in destination folder"
   ]
  },
  {
   "cell_type": "code",
   "execution_count": 3,
   "metadata": {},
   "outputs": [
    {
     "name": "stdout",
     "output_type": "stream",
     "text": [
      "Here's the list of contents:\n",
      "Index\n",
      "0    CD4_day1_rep1_R1_001.fastq.gz\n",
      "1    CD4_day3_rep2_R2_001.fastq.gz\n",
      "2    CD4_day1_rep2_R1_001.fastq.gz\n",
      "3    CD4_day3_rep1_R1_001.fastq.gz\n",
      "5    CD4_day1_rep2_R2_001.fastq.gz\n",
      "6    CD4_day1_rep1_R2_001.fastq.gz\n",
      "7    CD4_day3_rep2_R1_001.fastq.gz\n",
      "8    CD4_day3_rep1_R2_001.fastq.gz\n",
      "dtype: object\n"
     ]
    }
   ],
   "source": [
    "\n",
    "oldfiles = csl.filetransfer_ListDest(read_path_destination)\n"
   ]
  },
  {
   "cell_type": "markdown",
   "metadata": {},
   "source": [
    "### Convert fastq names as provided in your design matrix"
   ]
  },
  {
   "cell_type": "code",
   "execution_count": 4,
   "metadata": {},
   "outputs": [
    {
     "name": "stdout",
     "output_type": "stream",
     "text": [
      "Here's the list of name-converted read files:\n",
      "Index\n",
      "0    CD4_day1_rep1_R1_001.fastq.gz\n",
      "1    CD4_day3_rep2_R2_001.fastq.gz\n",
      "2    CD4_day1_rep2_R1_001.fastq.gz\n",
      "3    CD4_day3_rep1_R1_001.fastq.gz\n",
      "5    CD4_day1_rep2_R2_001.fastq.gz\n",
      "6    CD4_day1_rep1_R2_001.fastq.gz\n",
      "7    CD4_day3_rep2_R1_001.fastq.gz\n",
      "8    CD4_day3_rep1_R2_001.fastq.gz\n",
      "dtype: object\n"
     ]
    }
   ],
   "source": [
    "\n",
    "files = csl.filetransfer_Convert(read_path_destination,inpath_design)\n"
   ]
  },
  {
   "cell_type": "markdown",
   "metadata": {},
   "source": [
    "### [Click here if you want to return to very beginning](#starting_point)"
   ]
  },
  {
   "cell_type": "markdown",
   "metadata": {},
   "source": [
    "### ======================================================================================\n",
    "<a id='fastqc_point'></a>"
   ]
  },
  {
   "cell_type": "markdown",
   "metadata": {},
   "source": [
    "# <font color='darkblue'> FastQC and fastq-screen for quality control of the read files"
   ]
  },
  {
   "cell_type": "markdown",
   "metadata": {},
   "source": [
    "### QC step: Prepare required variables"
   ]
  },
  {
   "cell_type": "code",
   "execution_count": 10,
   "metadata": {},
   "outputs": [
    {
     "name": "stdout",
     "output_type": "stream",
     "text": [
      "========================================\n",
      "If you have trimmed the adapters with cutadapt prior, do you want to use these trimmed reads instead?:(y/n)\n",
      "y\n",
      "========================================\n",
      "FastQC results will be stored in ../../csl_results/cd4/data/fastqc_cutadapt/\n"
     ]
    }
   ],
   "source": [
    "\n",
    "if 'read_path_destination' in globals(): readlist,read_path_destination,outdir_fastqc,scriptpath_fastqc = csl.fastqc_Prep(read_path_destination)\n",
    "else:\n",
    "    read_path_destination = csl.fastqc_PrepDirect(); readlist,read_path_destination,outdir_fastqc,scriptpath_fastqc = csl.fastqc_Prep(read_path_destination)\n"
   ]
  },
  {
   "cell_type": "markdown",
   "metadata": {},
   "source": [
    "### QC step: Run QC on files from the list below"
   ]
  },
  {
   "cell_type": "code",
   "execution_count": 12,
   "metadata": {},
   "outputs": [
    {
     "name": "stdout",
     "output_type": "stream",
     "text": [
      "All jobs done !\n",
      ".........................\n",
      "Running time: 1.17 minutes\n"
     ]
    }
   ],
   "source": [
    "\n",
    "if 'jobid_QC' in globals(): csl.DeleteJobs(jobid_QC)\n",
    "jobid_QC = csl.fastqc_RunQC(readlist,outdir_fastqc,read_path_destination,scriptpath_fastqc); csl.Qstat(jobid_QC)\n"
   ]
  },
  {
   "cell_type": "code",
   "execution_count": 13,
   "metadata": {},
   "outputs": [
    {
     "data": {
      "text/html": [
       "\n",
       "        <iframe\n",
       "            width=\"1000\"\n",
       "            height=\"800\"\n",
       "            src=\"../../csl_results/cd4/data/fastqc_cutadapt//QC_list.html\"\n",
       "            frameborder=\"0\"\n",
       "            allowfullscreen\n",
       "        ></iframe>\n",
       "        "
      ],
      "text/plain": [
       "<IPython.lib.display.IFrame at 0x7fff20b5c310>"
      ]
     },
     "execution_count": 13,
     "metadata": {},
     "output_type": "execute_result"
    }
   ],
   "source": [
    "\n",
    "csl.fastqc_ListDir(outdir_fastqc)\n"
   ]
  },
  {
   "cell_type": "markdown",
   "metadata": {},
   "source": [
    "### QC step: Visualize the results \n",
    "### <font color='darkred'> Select index to an HTML file from the list"
   ]
  },
  {
   "cell_type": "code",
   "execution_count": 14,
   "metadata": {},
   "outputs": [
    {
     "name": "stdout",
     "output_type": "stream",
     "text": [
      "Specify index to visualize HTML file:(e.g 0)\n",
      "2\n"
     ]
    },
    {
     "data": {
      "text/html": [
       "\n",
       "        <iframe\n",
       "            width=\"1000\"\n",
       "            height=\"800\"\n",
       "            src=\"../../csl_results/cd4/data/fastqc_cutadapt/CD4_day3_rep1_R2_001_fastqc.html\"\n",
       "            frameborder=\"0\"\n",
       "            allowfullscreen\n",
       "        ></iframe>\n",
       "        "
      ],
      "text/plain": [
       "<IPython.lib.display.IFrame at 0x7fffe1349890>"
      ]
     },
     "execution_count": 14,
     "metadata": {},
     "output_type": "execute_result"
    }
   ],
   "source": [
    "\n",
    "csl.fastqc_Visualization(outdir_fastqc)\n"
   ]
  },
  {
   "cell_type": "markdown",
   "metadata": {},
   "source": [
    "### [Click here if you want to return to very beginning](#starting_point)"
   ]
  },
  {
   "cell_type": "markdown",
   "metadata": {},
   "source": [
    "### ======================================================================================\n",
    "<a id='cutadapt_point'></a>"
   ]
  },
  {
   "cell_type": "markdown",
   "metadata": {},
   "source": [
    "# <font color='darkblue'> Cutadapt for adapter trimming"
   ]
  },
  {
   "cell_type": "markdown",
   "metadata": {},
   "source": [
    "### Adapter trimming step: Please specify the paths to the read files and output folders"
   ]
  },
  {
   "cell_type": "code",
   "execution_count": 7,
   "metadata": {},
   "outputs": [
    {
     "name": "stdout",
     "output_type": "stream",
     "text": [
      "Trimmed reads results will be stored in ../../csl_results/cd4/data/cutadapt/\n",
      "========================================\n",
      "Specify the adapter for R1/read1:\n",
      "AGATCGGAAGAGCACACGTCTGAACTCCAGTCA for Illumina Universal TruSeq RNA\n",
      "CTGTCTCTTATACACATCTCCGAGCCCACGAGAC for Nextera Transposase ATAC\n",
      "TGGAATTCTCGG for Illumina Small RNA 3' \n",
      "GATCGTCGGACT for Illumina Small RNA 5' \n",
      "CTGTCTCTTATACACATCTCCGAGCCCACGAGAC\n",
      "========================================\n",
      "Specify the adapter for R2/read2:\n",
      "AGATCGGAAGAGCGTCGTGTAGGGAAAGAGTGT for Illumina Universal TruSeq RNA\n",
      "CTGTCTCTTATACACATCTGACGCTGCCGACGA for Nextera Transposase ATAC\n",
      "TGGAATTCTCGG for Illumina Small RNA 3' \n",
      "GATCGTCGGACT for Illumina Small RNA 5' \n",
      "CTGTCTCTTATACACATCTGACGCTGCCGACGA\n",
      "========================================\n",
      "Specify minimum length after trimming (default 20):\n",
      "20\n"
     ]
    }
   ],
   "source": [
    "\n",
    "adapter,adapter2,minlen,read1_list,read2_list,trimmed1_list,trimmed2_list,outdir_cutadapt,scriptpath_cutadapt=csl.cutadapt_Prep(read_path_destination,pairing)\n"
   ]
  },
  {
   "cell_type": "markdown",
   "metadata": {},
   "source": [
    "### Adapter trimming step: Run adapter trimming on prefixes from the list below"
   ]
  },
  {
   "cell_type": "code",
   "execution_count": 8,
   "metadata": {},
   "outputs": [
    {
     "name": "stdout",
     "output_type": "stream",
     "text": [
      "All jobs done !\n",
      ".........................\n",
      "Running time: 0.17 minutes\n"
     ]
    }
   ],
   "source": [
    "\n",
    "if 'jobid_Cutadapt' in globals(): csl.DeleteJobs(jobid_Cutadapt)\n",
    "jobid_Cutadapt = csl.cutadapt_RunTrimming(adapter,adapter2,minlen,read1_list,read2_list,trimmed1_list,trimmed2_list,scriptpath_cutadapt); csl.Qstat(jobid_Cutadapt)\n"
   ]
  },
  {
   "cell_type": "markdown",
   "metadata": {},
   "source": [
    "### Adapter trimming step: Check trimmed read results if already in output folder"
   ]
  },
  {
   "cell_type": "code",
   "execution_count": 9,
   "metadata": {},
   "outputs": [
    {
     "name": "stdout",
     "output_type": "stream",
     "text": [
      "Here's the list of contents:\n",
      "Index\n",
      "0    CD4_day1_rep1_R1_001.fastq.gz\n",
      "1    CD4_day3_rep2_R2_001.fastq.gz\n",
      "2    CD4_day1_rep2_R1_001.fastq.gz\n",
      "3    CD4_day3_rep1_R1_001.fastq.gz\n",
      "4    CD4_day1_rep2_R2_001.fastq.gz\n",
      "5    CD4_day1_rep1_R2_001.fastq.gz\n",
      "6    CD4_day3_rep2_R1_001.fastq.gz\n",
      "7    CD4_day3_rep1_R2_001.fastq.gz\n",
      "dtype: object\n"
     ]
    }
   ],
   "source": [
    "\n",
    "trimlist = csl.ListDir(outdir_cutadapt)\n"
   ]
  },
  {
   "cell_type": "markdown",
   "metadata": {},
   "source": [
    "### [Click here if you want to return to very beginning](#starting_point)"
   ]
  },
  {
   "cell_type": "markdown",
   "metadata": {},
   "source": [
    "### ======================================================================================\n",
    "<a id='bowtie2_point'></a>"
   ]
  },
  {
   "cell_type": "markdown",
   "metadata": {},
   "source": [
    "# <font color='darkblue'> Bowtie2 for read alignments and mapping; Picard for removing duplicates"
   ]
  },
  {
   "cell_type": "markdown",
   "metadata": {},
   "source": [
    "### Alignment step: Prepare required variables"
   ]
  },
  {
   "cell_type": "code",
   "execution_count": 5,
   "metadata": {},
   "outputs": [
    {
     "name": "stdout",
     "output_type": "stream",
     "text": [
      "========================================\n",
      "If you have trimmed the adapters with cutadapt prior, do you want to use these trimmed reads instead?:(y/n)\n",
      "y\n",
      "========================================\n",
      "Bowtie2 alignment results will be stored in ../../csl_results/cd4/data/bowtie2/\n"
     ]
    }
   ],
   "source": [
    "\n",
    "if ('read_path_destination' in globals()) & ('genome' in globals()) & ('pairing' in globals()): genome_index_path,read1_list,read2_list,out_prefix_list,out_dir,scriptpath_bowtie2 = csl.bowtie2_Prep(genome,pairing,read_path_destination)\n",
    "else:\n",
    "    genome,pairing,read_path_destination = csl.bowtie2_PrepDirect(); genome_index_path,read1_list,read2_list,out_prefix_list,out_dir,scriptpath_bowtie2 = csl.bowtie2_Prep(genome,pairing,read_path_destination)\n"
   ]
  },
  {
   "cell_type": "markdown",
   "metadata": {},
   "source": [
    "### Alignment step: Run alignment of the specified read files to the genome"
   ]
  },
  {
   "cell_type": "code",
   "execution_count": 6,
   "metadata": {},
   "outputs": [
    {
     "name": "stdout",
     "output_type": "stream",
     "text": [
      "All jobs done !\n",
      ".........................\n",
      "Running time: 1.01 minutes\n"
     ]
    }
   ],
   "source": [
    "\n",
    "if 'jobid_Bowtie2' in globals(): csl.DeleteJobs(jobid_Bowtie2)\n",
    "jobid_Bowtie2 = csl.bowtie2_RunAlignment(genome_index_path,read1_list,read2_list,out_prefix_list,out_dir,scriptpath_bowtie2); csl.Qstat(jobid_Bowtie2)\n"
   ]
  },
  {
   "cell_type": "markdown",
   "metadata": {},
   "source": [
    "### Alignment step: Check alignment results if already in output folder"
   ]
  },
  {
   "cell_type": "code",
   "execution_count": 7,
   "metadata": {},
   "outputs": [
    {
     "data": {
      "text/html": [
       "<div>\n",
       "<style scoped>\n",
       "    .dataframe tbody tr th:only-of-type {\n",
       "        vertical-align: middle;\n",
       "    }\n",
       "\n",
       "    .dataframe tbody tr th {\n",
       "        vertical-align: top;\n",
       "    }\n",
       "\n",
       "    .dataframe thead th {\n",
       "        text-align: right;\n",
       "    }\n",
       "</style>\n",
       "<table border=\"1\" class=\"dataframe\">\n",
       "  <thead>\n",
       "    <tr style=\"text-align: right;\">\n",
       "      <th></th>\n",
       "      <th>CD4_day3_rep1</th>\n",
       "      <th>CD4_day3_rep2</th>\n",
       "      <th>CD4_day1_rep1</th>\n",
       "      <th>CD4_day1_rep2</th>\n",
       "    </tr>\n",
       "  </thead>\n",
       "  <tbody>\n",
       "    <tr>\n",
       "      <th>0</th>\n",
       "      <td>99992 reads; of these:</td>\n",
       "      <td>99983 reads; of these:</td>\n",
       "      <td>100000 reads; of these:</td>\n",
       "      <td>99997 reads; of these:</td>\n",
       "    </tr>\n",
       "    <tr>\n",
       "      <th>1</th>\n",
       "      <td>99992 (100.00%) were paired; of these:</td>\n",
       "      <td>99983 (100.00%) were paired; of these:</td>\n",
       "      <td>100000 (100.00%) were paired; of these:</td>\n",
       "      <td>99997 (100.00%) were paired; of these:</td>\n",
       "    </tr>\n",
       "    <tr>\n",
       "      <th>2</th>\n",
       "      <td>1677 (1.68%) aligned concordantly 0 times</td>\n",
       "      <td>1907 (1.91%) aligned concordantly 0 times</td>\n",
       "      <td>1245 (1.25%) aligned concordantly 0 times</td>\n",
       "      <td>2083 (2.08%) aligned concordantly 0 times</td>\n",
       "    </tr>\n",
       "    <tr>\n",
       "      <th>3</th>\n",
       "      <td>68473 (68.48%) aligned concordantly exactl...</td>\n",
       "      <td>64211 (64.22%) aligned concordantly exactl...</td>\n",
       "      <td>43963 (43.96%) aligned concordantly exactl...</td>\n",
       "      <td>43135 (43.14%) aligned concordantly exactl...</td>\n",
       "    </tr>\n",
       "    <tr>\n",
       "      <th>4</th>\n",
       "      <td>29842 (29.84%) aligned concordantly &gt;1 times</td>\n",
       "      <td>33865 (33.87%) aligned concordantly &gt;1 times</td>\n",
       "      <td>54792 (54.79%) aligned concordantly &gt;1 times</td>\n",
       "      <td>54779 (54.78%) aligned concordantly &gt;1 times</td>\n",
       "    </tr>\n",
       "    <tr>\n",
       "      <th>5</th>\n",
       "      <td>----</td>\n",
       "      <td>----</td>\n",
       "      <td>----</td>\n",
       "      <td>----</td>\n",
       "    </tr>\n",
       "    <tr>\n",
       "      <th>6</th>\n",
       "      <td>1677 pairs aligned concordantly 0 times; o...</td>\n",
       "      <td>1907 pairs aligned concordantly 0 times; o...</td>\n",
       "      <td>1245 pairs aligned concordantly 0 times; o...</td>\n",
       "      <td>2083 pairs aligned concordantly 0 times; o...</td>\n",
       "    </tr>\n",
       "    <tr>\n",
       "      <th>7</th>\n",
       "      <td>307 (18.31%) aligned discordantly 1 time</td>\n",
       "      <td>350 (18.35%) aligned discordantly 1 time</td>\n",
       "      <td>143 (11.49%) aligned discordantly 1 time</td>\n",
       "      <td>137 (6.58%) aligned discordantly 1 time</td>\n",
       "    </tr>\n",
       "    <tr>\n",
       "      <th>8</th>\n",
       "      <td>----</td>\n",
       "      <td>----</td>\n",
       "      <td>----</td>\n",
       "      <td>----</td>\n",
       "    </tr>\n",
       "    <tr>\n",
       "      <th>9</th>\n",
       "      <td>1370 pairs aligned 0 times concordantly or...</td>\n",
       "      <td>1557 pairs aligned 0 times concordantly or...</td>\n",
       "      <td>1102 pairs aligned 0 times concordantly or...</td>\n",
       "      <td>1946 pairs aligned 0 times concordantly or...</td>\n",
       "    </tr>\n",
       "    <tr>\n",
       "      <th>10</th>\n",
       "      <td>2740 mates make up the pairs; of these:</td>\n",
       "      <td>3114 mates make up the pairs; of these:</td>\n",
       "      <td>2204 mates make up the pairs; of these:</td>\n",
       "      <td>3892 mates make up the pairs; of these:</td>\n",
       "    </tr>\n",
       "    <tr>\n",
       "      <th>11</th>\n",
       "      <td>1468 (53.58%) aligned 0 times</td>\n",
       "      <td>1717 (55.14%) aligned 0 times</td>\n",
       "      <td>992 (45.01%) aligned 0 times</td>\n",
       "      <td>2507 (64.41%) aligned 0 times</td>\n",
       "    </tr>\n",
       "    <tr>\n",
       "      <th>12</th>\n",
       "      <td>551 (20.11%) aligned exactly 1 time</td>\n",
       "      <td>633 (20.33%) aligned exactly 1 time</td>\n",
       "      <td>562 (25.50%) aligned exactly 1 time</td>\n",
       "      <td>639 (16.42%) aligned exactly 1 time</td>\n",
       "    </tr>\n",
       "    <tr>\n",
       "      <th>13</th>\n",
       "      <td>721 (26.31%) aligned &gt;1 times</td>\n",
       "      <td>764 (24.53%) aligned &gt;1 times</td>\n",
       "      <td>650 (29.49%) aligned &gt;1 times</td>\n",
       "      <td>746 (19.17%) aligned &gt;1 times</td>\n",
       "    </tr>\n",
       "    <tr>\n",
       "      <th>14</th>\n",
       "      <td>99.27% overall alignment rate</td>\n",
       "      <td>99.14% overall alignment rate</td>\n",
       "      <td>99.50% overall alignment rate</td>\n",
       "      <td>98.75% overall alignment rate</td>\n",
       "    </tr>\n",
       "  </tbody>\n",
       "</table>\n",
       "</div>"
      ],
      "text/plain": [
       "                                        CD4_day3_rep1  \\\n",
       "0                              99992 reads; of these:   \n",
       "1              99992 (100.00%) were paired; of these:   \n",
       "2           1677 (1.68%) aligned concordantly 0 times   \n",
       "3       68473 (68.48%) aligned concordantly exactl...   \n",
       "4        29842 (29.84%) aligned concordantly >1 times   \n",
       "5                                                ----   \n",
       "6       1677 pairs aligned concordantly 0 times; o...   \n",
       "7            307 (18.31%) aligned discordantly 1 time   \n",
       "8                                                ----   \n",
       "9       1370 pairs aligned 0 times concordantly or...   \n",
       "10            2740 mates make up the pairs; of these:   \n",
       "11                      1468 (53.58%) aligned 0 times   \n",
       "12                551 (20.11%) aligned exactly 1 time   \n",
       "13                      721 (26.31%) aligned >1 times   \n",
       "14                      99.27% overall alignment rate   \n",
       "\n",
       "                                        CD4_day3_rep2  \\\n",
       "0                              99983 reads; of these:   \n",
       "1              99983 (100.00%) were paired; of these:   \n",
       "2           1907 (1.91%) aligned concordantly 0 times   \n",
       "3       64211 (64.22%) aligned concordantly exactl...   \n",
       "4        33865 (33.87%) aligned concordantly >1 times   \n",
       "5                                                ----   \n",
       "6       1907 pairs aligned concordantly 0 times; o...   \n",
       "7            350 (18.35%) aligned discordantly 1 time   \n",
       "8                                                ----   \n",
       "9       1557 pairs aligned 0 times concordantly or...   \n",
       "10            3114 mates make up the pairs; of these:   \n",
       "11                      1717 (55.14%) aligned 0 times   \n",
       "12                633 (20.33%) aligned exactly 1 time   \n",
       "13                      764 (24.53%) aligned >1 times   \n",
       "14                      99.14% overall alignment rate   \n",
       "\n",
       "                                        CD4_day1_rep1  \\\n",
       "0                             100000 reads; of these:   \n",
       "1             100000 (100.00%) were paired; of these:   \n",
       "2           1245 (1.25%) aligned concordantly 0 times   \n",
       "3       43963 (43.96%) aligned concordantly exactl...   \n",
       "4        54792 (54.79%) aligned concordantly >1 times   \n",
       "5                                                ----   \n",
       "6       1245 pairs aligned concordantly 0 times; o...   \n",
       "7            143 (11.49%) aligned discordantly 1 time   \n",
       "8                                                ----   \n",
       "9       1102 pairs aligned 0 times concordantly or...   \n",
       "10            2204 mates make up the pairs; of these:   \n",
       "11                       992 (45.01%) aligned 0 times   \n",
       "12                562 (25.50%) aligned exactly 1 time   \n",
       "13                      650 (29.49%) aligned >1 times   \n",
       "14                      99.50% overall alignment rate   \n",
       "\n",
       "                                        CD4_day1_rep2  \n",
       "0                              99997 reads; of these:  \n",
       "1              99997 (100.00%) were paired; of these:  \n",
       "2           2083 (2.08%) aligned concordantly 0 times  \n",
       "3       43135 (43.14%) aligned concordantly exactl...  \n",
       "4        54779 (54.78%) aligned concordantly >1 times  \n",
       "5                                                ----  \n",
       "6       2083 pairs aligned concordantly 0 times; o...  \n",
       "7             137 (6.58%) aligned discordantly 1 time  \n",
       "8                                                ----  \n",
       "9       1946 pairs aligned 0 times concordantly or...  \n",
       "10            3892 mates make up the pairs; of these:  \n",
       "11                      2507 (64.41%) aligned 0 times  \n",
       "12                639 (16.42%) aligned exactly 1 time  \n",
       "13                      746 (19.17%) aligned >1 times  \n",
       "14                      98.75% overall alignment rate  "
      ]
     },
     "execution_count": 7,
     "metadata": {},
     "output_type": "execute_result"
    }
   ],
   "source": [
    "\n",
    "summary_matrix = csl.bowtie2_ListDir(out_dir); summary_matrix\n"
   ]
  },
  {
   "cell_type": "markdown",
   "metadata": {},
   "source": [
    "### Alignment step: Visualize the insert size frequency \n",
    "### <font color='darkred'> Select index to a sample name from the list"
   ]
  },
  {
   "cell_type": "code",
   "execution_count": 8,
   "metadata": {},
   "outputs": [
    {
     "name": "stdout",
     "output_type": "stream",
     "text": [
      "               0\n",
      "0  CD4_day3_rep1\n",
      "1  CD4_day3_rep2\n",
      "2  CD4_day1_rep1\n",
      "3  CD4_day1_rep2\n",
      "========================================\n",
      "Specify index to visualize insert size frequency:(e.g 0)\n",
      "3\n"
     ]
    },
    {
     "data": {
      "text/html": [
       "\n",
       "        <iframe\n",
       "            width=\"1000\"\n",
       "            height=\"800\"\n",
       "            src=\"../../csl_results/cd4/data/bowtie2//CD4_day1_rep2/CD4_day1_rep2_insert_size_histogram.jpg\"\n",
       "            frameborder=\"0\"\n",
       "            allowfullscreen\n",
       "        ></iframe>\n",
       "        "
      ],
      "text/plain": [
       "<IPython.lib.display.IFrame at 0x7fff208f9d10>"
      ]
     },
     "execution_count": 8,
     "metadata": {},
     "output_type": "execute_result"
    }
   ],
   "source": [
    "\n",
    "csl.bowtie2_Visualization(out_dir)\n"
   ]
  },
  {
   "cell_type": "markdown",
   "metadata": {},
   "source": [
    "### [Click here if you want to return to very beginning](#starting_point)"
   ]
  },
  {
   "cell_type": "markdown",
   "metadata": {},
   "source": [
    "### ======================================================================================\n",
    "<a id='macs2_point'></a>"
   ]
  },
  {
   "cell_type": "markdown",
   "metadata": {},
   "source": [
    "# <font color='darkblue'> MACS2 for peak calling"
   ]
  },
  {
   "cell_type": "markdown",
   "metadata": {},
   "source": [
    "### Peak calling step: Prepare required variables"
   ]
  },
  {
   "cell_type": "code",
   "execution_count": 2,
   "metadata": {},
   "outputs": [
    {
     "name": "stdout",
     "output_type": "stream",
     "text": [
      "========================================\n",
      "Specify genome:(e.g human, mouse, etc)\n",
      "human\n",
      "========================================\n",
      "Are the reads paired-end:(e.g y/n)\n",
      "y\n",
      "========================================\n",
      "Specify the path to alignment folder used for peak calling:\n",
      "../../csl_results/cd4/data/bowtie2/\n",
      "========================================\n",
      "Remove all kinds of read duplicates:(e.g y/n)\n",
      "n\n"
     ]
    }
   ],
   "source": [
    "\n",
    "if ('out_dir' in globals()) & ('genome' in globals()): scriptpath_macs2,genomesize,chromsize,bed_list,macs2_prefix_list,prefix,anno_onlyChrNoMito = csl.macs2_Prep(genome,out_dir,pairing)\n",
    "else: \n",
    "    genome,pairing,out_dir=csl.macs2_PrepDirect(); scriptpath_macs2,genomesize,chromsize,bed_list,macs2_prefix_list,prefix,anno_onlyChrNoMito = csl.macs2_Prep(genome,out_dir,pairing)\n"
   ]
  },
  {
   "cell_type": "markdown",
   "metadata": {},
   "source": [
    "### Peak calling step: Run peak calling of the alignment files (BAM)"
   ]
  },
  {
   "cell_type": "code",
   "execution_count": 3,
   "metadata": {
    "scrolled": true
   },
   "outputs": [
    {
     "name": "stdout",
     "output_type": "stream",
     "text": [
      "All jobs done !\n",
      ".........................\n",
      "Running time: 0.34 minutes\n"
     ]
    }
   ],
   "source": [
    "\n",
    "if 'jobid_MACS2' in globals(): csl.DeleteJobs(jobid_MACS2)\n",
    "jobid_MACS2 = csl.macs2_RunPeakCalling(scriptpath_macs2,genomesize,chromsize,bed_list,macs2_prefix_list,prefix,anno_onlyChrNoMito); csl.Qstat(jobid_MACS2)\n"
   ]
  },
  {
   "cell_type": "markdown",
   "metadata": {},
   "source": [
    "### Peak calling step: Show the list of peaks"
   ]
  },
  {
   "cell_type": "code",
   "execution_count": 3,
   "metadata": {},
   "outputs": [
    {
     "name": "stdout",
     "output_type": "stream",
     "text": [
      "               0\n",
      "0  CD4_day3_rep1\n",
      "1  CD4_day3_rep2\n",
      "2  CD4_day1_rep1\n",
      "3  CD4_day1_rep2\n",
      "========================================\n",
      "Specify index to visualize insert size frequency:(e.g 0)\n",
      "3\n"
     ]
    },
    {
     "data": {
      "text/html": [
       "<div>\n",
       "<style scoped>\n",
       "    .dataframe tbody tr th:only-of-type {\n",
       "        vertical-align: middle;\n",
       "    }\n",
       "\n",
       "    .dataframe tbody tr th {\n",
       "        vertical-align: top;\n",
       "    }\n",
       "\n",
       "    .dataframe thead th {\n",
       "        text-align: right;\n",
       "    }\n",
       "</style>\n",
       "<table border=\"1\" class=\"dataframe\">\n",
       "  <thead>\n",
       "    <tr style=\"text-align: right;\">\n",
       "      <th></th>\n",
       "      <th>start</th>\n",
       "      <th>end</th>\n",
       "      <th>length</th>\n",
       "      <th>abs_summit</th>\n",
       "      <th>pileup</th>\n",
       "      <th>-log10(pvalue)</th>\n",
       "      <th>fold_enrichment</th>\n",
       "      <th>-log10(qvalue)</th>\n",
       "      <th>name</th>\n",
       "    </tr>\n",
       "    <tr>\n",
       "      <th>chr</th>\n",
       "      <th></th>\n",
       "      <th></th>\n",
       "      <th></th>\n",
       "      <th></th>\n",
       "      <th></th>\n",
       "      <th></th>\n",
       "      <th></th>\n",
       "      <th></th>\n",
       "      <th></th>\n",
       "    </tr>\n",
       "  </thead>\n",
       "  <tbody>\n",
       "    <tr>\n",
       "      <th>chr1</th>\n",
       "      <td>629145</td>\n",
       "      <td>629742</td>\n",
       "      <td>598</td>\n",
       "      <td>629286</td>\n",
       "      <td>1065</td>\n",
       "      <td>60.49490</td>\n",
       "      <td>1.73204</td>\n",
       "      <td>55.70770</td>\n",
       "      <td>CD4_day1_rep2_peak_1a</td>\n",
       "    </tr>\n",
       "    <tr>\n",
       "      <th>chr1</th>\n",
       "      <td>629145</td>\n",
       "      <td>629742</td>\n",
       "      <td>598</td>\n",
       "      <td>629595</td>\n",
       "      <td>1181</td>\n",
       "      <td>72.58370</td>\n",
       "      <td>1.77696</td>\n",
       "      <td>67.74880</td>\n",
       "      <td>CD4_day1_rep2_peak_1b</td>\n",
       "    </tr>\n",
       "    <tr>\n",
       "      <th>chr1</th>\n",
       "      <td>629882</td>\n",
       "      <td>634847</td>\n",
       "      <td>4966</td>\n",
       "      <td>630122</td>\n",
       "      <td>1297</td>\n",
       "      <td>91.26070</td>\n",
       "      <td>1.86056</td>\n",
       "      <td>86.34820</td>\n",
       "      <td>CD4_day1_rep2_peak_2a</td>\n",
       "    </tr>\n",
       "    <tr>\n",
       "      <th>chr1</th>\n",
       "      <td>629882</td>\n",
       "      <td>634847</td>\n",
       "      <td>4966</td>\n",
       "      <td>630580</td>\n",
       "      <td>1643</td>\n",
       "      <td>203.37200</td>\n",
       "      <td>2.35652</td>\n",
       "      <td>198.13900</td>\n",
       "      <td>CD4_day1_rep2_peak_2b</td>\n",
       "    </tr>\n",
       "    <tr>\n",
       "      <th>chr1</th>\n",
       "      <td>629882</td>\n",
       "      <td>634847</td>\n",
       "      <td>4966</td>\n",
       "      <td>631494</td>\n",
       "      <td>1643</td>\n",
       "      <td>203.37200</td>\n",
       "      <td>2.35652</td>\n",
       "      <td>198.13900</td>\n",
       "      <td>CD4_day1_rep2_peak_2c</td>\n",
       "    </tr>\n",
       "    <tr>\n",
       "      <th>...</th>\n",
       "      <td>...</td>\n",
       "      <td>...</td>\n",
       "      <td>...</td>\n",
       "      <td>...</td>\n",
       "      <td>...</td>\n",
       "      <td>...</td>\n",
       "      <td>...</td>\n",
       "      <td>...</td>\n",
       "      <td>...</td>\n",
       "    </tr>\n",
       "    <tr>\n",
       "      <th>chrY</th>\n",
       "      <td>10828063</td>\n",
       "      <td>10828272</td>\n",
       "      <td>210</td>\n",
       "      <td>10828164</td>\n",
       "      <td>14</td>\n",
       "      <td>18.91840</td>\n",
       "      <td>11.02940</td>\n",
       "      <td>14.38500</td>\n",
       "      <td>CD4_day1_rep2_peak_497</td>\n",
       "    </tr>\n",
       "    <tr>\n",
       "      <th>chrY</th>\n",
       "      <td>11013494</td>\n",
       "      <td>11013693</td>\n",
       "      <td>200</td>\n",
       "      <td>11013602</td>\n",
       "      <td>11</td>\n",
       "      <td>13.13510</td>\n",
       "      <td>8.33333</td>\n",
       "      <td>8.67633</td>\n",
       "      <td>CD4_day1_rep2_peak_498</td>\n",
       "    </tr>\n",
       "    <tr>\n",
       "      <th>chrY</th>\n",
       "      <td>11014387</td>\n",
       "      <td>11014586</td>\n",
       "      <td>200</td>\n",
       "      <td>11014482</td>\n",
       "      <td>8</td>\n",
       "      <td>9.29728</td>\n",
       "      <td>6.42857</td>\n",
       "      <td>4.92888</td>\n",
       "      <td>CD4_day1_rep2_peak_499</td>\n",
       "    </tr>\n",
       "    <tr>\n",
       "      <th>chrY</th>\n",
       "      <td>11132334</td>\n",
       "      <td>11132572</td>\n",
       "      <td>239</td>\n",
       "      <td>11132453</td>\n",
       "      <td>18</td>\n",
       "      <td>17.49720</td>\n",
       "      <td>9.50000</td>\n",
       "      <td>12.97960</td>\n",
       "      <td>CD4_day1_rep2_peak_500</td>\n",
       "    </tr>\n",
       "    <tr>\n",
       "      <th>chrY</th>\n",
       "      <td>11134530</td>\n",
       "      <td>11134928</td>\n",
       "      <td>399</td>\n",
       "      <td>11134778</td>\n",
       "      <td>19</td>\n",
       "      <td>18.47510</td>\n",
       "      <td>9.80392</td>\n",
       "      <td>13.94750</td>\n",
       "      <td>CD4_day1_rep2_peak_501</td>\n",
       "    </tr>\n",
       "  </tbody>\n",
       "</table>\n",
       "<p>544 rows × 9 columns</p>\n",
       "</div>"
      ],
      "text/plain": [
       "         start       end  length  abs_summit  pileup  -log10(pvalue)  \\\n",
       "chr                                                                    \n",
       "chr1    629145    629742     598      629286    1065        60.49490   \n",
       "chr1    629145    629742     598      629595    1181        72.58370   \n",
       "chr1    629882    634847    4966      630122    1297        91.26070   \n",
       "chr1    629882    634847    4966      630580    1643       203.37200   \n",
       "chr1    629882    634847    4966      631494    1643       203.37200   \n",
       "...        ...       ...     ...         ...     ...             ...   \n",
       "chrY  10828063  10828272     210    10828164      14        18.91840   \n",
       "chrY  11013494  11013693     200    11013602      11        13.13510   \n",
       "chrY  11014387  11014586     200    11014482       8         9.29728   \n",
       "chrY  11132334  11132572     239    11132453      18        17.49720   \n",
       "chrY  11134530  11134928     399    11134778      19        18.47510   \n",
       "\n",
       "      fold_enrichment  -log10(qvalue)                    name  \n",
       "chr                                                            \n",
       "chr1          1.73204        55.70770   CD4_day1_rep2_peak_1a  \n",
       "chr1          1.77696        67.74880   CD4_day1_rep2_peak_1b  \n",
       "chr1          1.86056        86.34820   CD4_day1_rep2_peak_2a  \n",
       "chr1          2.35652       198.13900   CD4_day1_rep2_peak_2b  \n",
       "chr1          2.35652       198.13900   CD4_day1_rep2_peak_2c  \n",
       "...               ...             ...                     ...  \n",
       "chrY         11.02940        14.38500  CD4_day1_rep2_peak_497  \n",
       "chrY          8.33333         8.67633  CD4_day1_rep2_peak_498  \n",
       "chrY          6.42857         4.92888  CD4_day1_rep2_peak_499  \n",
       "chrY          9.50000        12.97960  CD4_day1_rep2_peak_500  \n",
       "chrY          9.80392        13.94750  CD4_day1_rep2_peak_501  \n",
       "\n",
       "[544 rows x 9 columns]"
      ]
     },
     "execution_count": 3,
     "metadata": {},
     "output_type": "execute_result"
    }
   ],
   "source": [
    "\n",
    "csl.macs2_PeakList()\n"
   ]
  },
  {
   "cell_type": "code",
   "execution_count": 32,
   "metadata": {},
   "outputs": [],
   "source": [
    "! module load EBModules"
   ]
  },
  {
   "cell_type": "code",
   "execution_count": 33,
   "metadata": {},
   "outputs": [],
   "source": [
    "! module load Anaconda3/2023.03-1"
   ]
  },
  {
   "cell_type": "code",
   "execution_count": 36,
   "metadata": {},
   "outputs": [
    {
     "name": "stdout",
     "output_type": "stream",
     "text": [
      "/bin/bash: conda: command not found\r\n"
     ]
    }
   ],
   "source": [
    "! conda"
   ]
  },
  {
   "cell_type": "code",
   "execution_count": 30,
   "metadata": {},
   "outputs": [],
   "source": [
    "! source {'~/.bashrc'}"
   ]
  },
  {
   "cell_type": "code",
   "execution_count": 31,
   "metadata": {},
   "outputs": [],
   "source": [
    "! env | grep conda"
   ]
  },
  {
   "cell_type": "code",
   "execution_count": null,
   "metadata": {},
   "outputs": [],
   "source": []
  },
  {
   "cell_type": "markdown",
   "metadata": {},
   "source": [
    "### [Click here if you want to return to very beginning](#starting_point)"
   ]
  },
  {
   "cell_type": "markdown",
   "metadata": {},
   "source": [
    "### ======================================================================================\n",
    "<a id='homer_point'></a>"
   ]
  },
  {
   "cell_type": "markdown",
   "metadata": {},
   "source": [
    "# <font color='darkblue'> Homer for annotating and differential peaks analysis"
   ]
  },
  {
   "cell_type": "markdown",
   "metadata": {},
   "source": [
    "### Differential analysis step: Prepare required variables"
   ]
  },
  {
   "cell_type": "code",
   "execution_count": 9,
   "metadata": {},
   "outputs": [
    {
     "name": "stdout",
     "output_type": "stream",
     "text": [
      "DESeq2 results are stored in ../../csl_results/example_dataset/data/deseq2/\n",
      "========================================\n",
      "Here's the list of phenotypes/conditions/experiments\n",
      "treatment:\n",
      "{'control', 'treated'}\n",
      "========================================\n",
      "Which phenotype/condition/replicate/batch should be the reference/baseline?(e.g control)\n",
      "control\n",
      "========================================\n",
      "Which phenotype/condition/replicate/batch to compare?(e.g treated)\n",
      "treated\n"
     ]
    }
   ],
   "source": [
    "\n",
    "if ('out_dir' in globals()) & ('genome' in globals()): genome_homer,out_dir_tag,out_prefix_bowtie2_list,out_prefix_anno_list,out_prefix_tag_list,prefix,scriptpath_homer_annotag,scriptpath_homer_diffpeak,refcond,compared,refcond_list,compared_list = csl.homer_Prep(genome,out_dir,inpath_design)\n",
    "else:\n",
    "    genome,out_dir,inpath_design = csl.homer_PrepDirect(); genome_homer,out_dir_tag,out_prefix_bowtie2_list,out_prefix_anno_list,out_prefix_tag_list,prefix,scriptpath_homer_annotag,scriptpath_homer_diffpeak,refcond,compared,refcond_list,compared_list = csl.homer_Prep(genome,out_dir,inpath_design)\n",
    " "
   ]
  },
  {
   "cell_type": "markdown",
   "metadata": {},
   "source": [
    "### Differential analysis step: Run peak annotation below"
   ]
  },
  {
   "cell_type": "code",
   "execution_count": null,
   "metadata": {},
   "outputs": [],
   "source": [
    "\n",
    "if 'jobid_Homer' in globals(): csl.DeleteOneJob(jobid_Homer)\n",
    "jobid_Homer = csl.homer_RunAnnoTag(genome_homer,out_prefix_bowtie2_list,out_prefix_anno_list,out_prefix_tag_list,scriptpath_homer_annotag); csl.Qstat(jobid_Homer)\n"
   ]
  },
  {
   "cell_type": "markdown",
   "metadata": {},
   "source": [
    "### Differential analysis step: Run differential analysis below"
   ]
  },
  {
   "cell_type": "code",
   "execution_count": 10,
   "metadata": {
    "scrolled": true
   },
   "outputs": [
    {
     "name": "stdout",
     "output_type": "stream",
     "text": [
      "All jobs done !\n",
      ".........................\n",
      "Running time: 0.51 minutes\n"
     ]
    }
   ],
   "source": [
    "\n",
    "if 'jobid_Homer' in globals(): csl.DeleteOneJob(jobid_Homer)\n",
    "jobid_Homer = csl.homer_RunDiffPeak(genome_homer,out_dir_tag,scriptpath_homer_diffpeak,refcond,compared,refcond_list,compared_list); csl.Qstat(jobid_Homer)\n"
   ]
  },
  {
   "cell_type": "markdown",
   "metadata": {},
   "source": [
    "### Differential analysis step: Show the list of differential peaks"
   ]
  },
  {
   "cell_type": "code",
   "execution_count": 11,
   "metadata": {},
   "outputs": [
    {
     "data": {
      "text/html": [
       "<div>\n",
       "<style scoped>\n",
       "    .dataframe tbody tr th:only-of-type {\n",
       "        vertical-align: middle;\n",
       "    }\n",
       "\n",
       "    .dataframe tbody tr th {\n",
       "        vertical-align: top;\n",
       "    }\n",
       "\n",
       "    .dataframe thead th {\n",
       "        text-align: right;\n",
       "    }\n",
       "</style>\n",
       "<table border=\"1\" class=\"dataframe\">\n",
       "  <thead>\n",
       "    <tr style=\"text-align: right;\">\n",
       "      <th></th>\n",
       "      <th>baseMean</th>\n",
       "      <th>log2FoldChange</th>\n",
       "      <th>lfcSE</th>\n",
       "      <th>pvalue</th>\n",
       "      <th>padj</th>\n",
       "    </tr>\n",
       "  </thead>\n",
       "  <tbody>\n",
       "    <tr>\n",
       "      <th>S100a9</th>\n",
       "      <td>581.686236</td>\n",
       "      <td>2.624984</td>\n",
       "      <td>0.094850</td>\n",
       "      <td>1.008615e-169</td>\n",
       "      <td>2.591131e-166</td>\n",
       "    </tr>\n",
       "    <tr>\n",
       "      <th>S100a8</th>\n",
       "      <td>552.760501</td>\n",
       "      <td>2.423435</td>\n",
       "      <td>0.096643</td>\n",
       "      <td>6.094627e-140</td>\n",
       "      <td>7.828548e-137</td>\n",
       "    </tr>\n",
       "    <tr>\n",
       "      <th>Olfm4</th>\n",
       "      <td>345.528165</td>\n",
       "      <td>2.209004</td>\n",
       "      <td>0.113189</td>\n",
       "      <td>5.323090e-86</td>\n",
       "      <td>4.558339e-83</td>\n",
       "    </tr>\n",
       "    <tr>\n",
       "      <th>Ngp</th>\n",
       "      <td>132.718423</td>\n",
       "      <td>3.491891</td>\n",
       "      <td>0.220116</td>\n",
       "      <td>1.599498e-57</td>\n",
       "      <td>1.027277e-54</td>\n",
       "    </tr>\n",
       "    <tr>\n",
       "      <th>Cstdc5</th>\n",
       "      <td>565.233734</td>\n",
       "      <td>1.166185</td>\n",
       "      <td>0.087898</td>\n",
       "      <td>1.920989e-41</td>\n",
       "      <td>9.870040e-39</td>\n",
       "    </tr>\n",
       "    <tr>\n",
       "      <th>...</th>\n",
       "      <td>...</td>\n",
       "      <td>...</td>\n",
       "      <td>...</td>\n",
       "      <td>...</td>\n",
       "      <td>...</td>\n",
       "    </tr>\n",
       "    <tr>\n",
       "      <th>Sh3kbp1</th>\n",
       "      <td>108.419912</td>\n",
       "      <td>0.000108</td>\n",
       "      <td>0.080120</td>\n",
       "      <td>9.987594e-01</td>\n",
       "      <td>9.998801e-01</td>\n",
       "    </tr>\n",
       "    <tr>\n",
       "      <th>Drosha</th>\n",
       "      <td>83.733875</td>\n",
       "      <td>0.000081</td>\n",
       "      <td>0.082270</td>\n",
       "      <td>9.991961e-01</td>\n",
       "      <td>9.998801e-01</td>\n",
       "    </tr>\n",
       "    <tr>\n",
       "      <th>Ctsa</th>\n",
       "      <td>108.115983</td>\n",
       "      <td>0.000029</td>\n",
       "      <td>0.080430</td>\n",
       "      <td>9.996494e-01</td>\n",
       "      <td>9.998801e-01</td>\n",
       "    </tr>\n",
       "    <tr>\n",
       "      <th>Vav1</th>\n",
       "      <td>149.682560</td>\n",
       "      <td>0.000594</td>\n",
       "      <td>0.079230</td>\n",
       "      <td>9.996919e-01</td>\n",
       "      <td>9.998801e-01</td>\n",
       "    </tr>\n",
       "    <tr>\n",
       "      <th>Psmd2</th>\n",
       "      <td>286.010483</td>\n",
       "      <td>0.000081</td>\n",
       "      <td>0.070228</td>\n",
       "      <td>9.998801e-01</td>\n",
       "      <td>9.998801e-01</td>\n",
       "    </tr>\n",
       "  </tbody>\n",
       "</table>\n",
       "<p>2569 rows × 5 columns</p>\n",
       "</div>"
      ],
      "text/plain": [
       "           baseMean  log2FoldChange     lfcSE         pvalue           padj\n",
       "S100a9   581.686236        2.624984  0.094850  1.008615e-169  2.591131e-166\n",
       "S100a8   552.760501        2.423435  0.096643  6.094627e-140  7.828548e-137\n",
       "Olfm4    345.528165        2.209004  0.113189   5.323090e-86   4.558339e-83\n",
       "Ngp      132.718423        3.491891  0.220116   1.599498e-57   1.027277e-54\n",
       "Cstdc5   565.233734        1.166185  0.087898   1.920989e-41   9.870040e-39\n",
       "...             ...             ...       ...            ...            ...\n",
       "Sh3kbp1  108.419912        0.000108  0.080120   9.987594e-01   9.998801e-01\n",
       "Drosha    83.733875        0.000081  0.082270   9.991961e-01   9.998801e-01\n",
       "Ctsa     108.115983        0.000029  0.080430   9.996494e-01   9.998801e-01\n",
       "Vav1     149.682560        0.000594  0.079230   9.996919e-01   9.998801e-01\n",
       "Psmd2    286.010483        0.000081  0.070228   9.998801e-01   9.998801e-01\n",
       "\n",
       "[2569 rows x 5 columns]"
      ]
     },
     "execution_count": 11,
     "metadata": {},
     "output_type": "execute_result"
    }
   ],
   "source": [
    "\n",
    "diffpeak = pd.read_table(out_dir_tag+'/DiffPeak_'+compared+'_vs_'+refcond+'(ref).txt',index_col=0); diffpeak\n"
   ]
  },
  {
   "cell_type": "markdown",
   "metadata": {},
   "source": [
    "### [Click here if you want to return to very beginning](#starting_point)\n",
    "<a id='visualization_point'></a>"
   ]
  },
  {
   "cell_type": "markdown",
   "metadata": {},
   "source": [
    "### ======================================================================================\n",
    "<a id='visualization_point'></a>"
   ]
  },
  {
   "cell_type": "markdown",
   "metadata": {},
   "source": [
    "# <font color='darkblue'> Visualize annotated peaks with pyGenomeTracks"
   ]
  },
  {
   "cell_type": "markdown",
   "metadata": {},
   "source": [
    "### Visualization step: Prepare required variables"
   ]
  },
  {
   "cell_type": "code",
   "execution_count": 2,
   "metadata": {},
   "outputs": [
    {
     "name": "stdout",
     "output_type": "stream",
     "text": [
      "========================================\n",
      "Specify genome:(e.g human, mouse, etc)\n",
      "human\n",
      "========================================\n",
      "Specify the path to MACS2/BED folder from peak calling:\n",
      "../../csl_results/cd4/data/macs2/\n",
      "========================================\n"
     ]
    }
   ],
   "source": [
    "\n",
    "if ('genome' in globals()) & ('out_peak' in globals()): genome_index_path,scriptpath_tracks,tracks_dir,macs2_prefix_list,region = csl.visualization_Prep(genome,out_peak)\n",
    "else: \n",
    "    genome,out_peak=csl.visualization_PrepDirect(); genome_index_path,scriptpath_tracks,tracks_dir,macs2_prefix_list,region = csl.visualization_Prep(genome,out_peak)\n"
   ]
  },
  {
   "cell_type": "markdown",
   "metadata": {},
   "source": [
    "### Visualization step: Run tracks visualization"
   ]
  },
  {
   "cell_type": "code",
   "execution_count": null,
   "metadata": {},
   "outputs": [],
   "source": [
    "\n",
    "if 'jobid_Tracks' in globals(): csl.DeleteOneJob(jobid_Tracks)\n",
    "jobid_Tracks = csl.visualization_MakeTracks(genome_index_path,scriptpath_tracks,tracks_dir,macs2_prefix_list,region); csl.Qstat(jobid_Tracks)\n"
   ]
  },
  {
   "cell_type": "markdown",
   "metadata": {},
   "source": [
    "### Visualization step: Visualize annotated tracks"
   ]
  },
  {
   "cell_type": "code",
   "execution_count": 3,
   "metadata": {},
   "outputs": [
    {
     "data": {
      "text/html": [
       "\n",
       "        <iframe\n",
       "            width=\"800\"\n",
       "            height=\"800\"\n",
       "            src=\"../../csl_results/cd4/data/genomeTracks//genomeTracks.png\"\n",
       "            frameborder=\"0\"\n",
       "            allowfullscreen\n",
       "        ></iframe>\n",
       "        "
      ],
      "text/plain": [
       "<IPython.lib.display.IFrame at 0x7fff20909b90>"
      ]
     },
     "execution_count": 3,
     "metadata": {},
     "output_type": "execute_result"
    }
   ],
   "source": [
    "\n",
    "csl.visualization_PlotTracks(tracks_dir)\n"
   ]
  },
  {
   "cell_type": "markdown",
   "metadata": {},
   "source": [
    "### [Click here if you want to return to very beginning](#starting_point)\n",
    "<a id='FindCopyResults_point'></a>"
   ]
  },
  {
   "cell_type": "markdown",
   "metadata": {},
   "source": [
    "### ======================================================================================\n",
    "<a id='FindCopyResults_point'></a>"
   ]
  },
  {
   "cell_type": "markdown",
   "metadata": {},
   "source": [
    "# <font color='darkblue'> Find the result contents and locations"
   ]
  },
  {
   "cell_type": "code",
   "execution_count": 15,
   "metadata": {},
   "outputs": [
    {
     "name": "stdout",
     "output_type": "stream",
     "text": [
      "../../csl_results/\n",
      "└── example_dataset\n",
      "    ├── data\n",
      "    │   ├── counts\n",
      "    │   │   ├── count_matrix.txt\n",
      "    │   │   └── featurecounts_summary.txt\n",
      "    │   ├── deseq2\n",
      "    │   │   ├── DEG_fdr0.05_treated_vs_control(ref).txt\n",
      "    │   │   ├── DEG_treated_vs_control(ref).txt\n",
      "    │   │   ├── heatmap_treatment.png\n",
      "    │   │   ├── MAplot_treated_vs_control(ref).png\n",
      "    │   │   ├── normalized_counts.txt\n",
      "    │   │   └── pca_treatment.png\n",
      "    │   ├── fastq\n",
      "    │   │   ├── control_1_R1_001.fastq.gz\n",
      "    │   │   ├── control_1_R2_001.fastq.gz\n",
      "    │   │   ├── control_2_R1_001.fastq.gz\n",
      "    │   │   ├── control_2_R2_001.fastq.gz\n",
      "    │   │   ├── control_3_R1_001.fastq.gz\n",
      "    │   │   ├── control_3_R2_001.fastq.gz\n",
      "    │   │   ├── treated_1_R1_001.fastq.gz\n",
      "    │   │   ├── treated_1_R2_001.fastq.gz\n",
      "    │   │   ├── treated_2_R1_001.fastq.gz\n",
      "    │   │   ├── treated_2_R2_001.fastq.gz\n",
      "    │   │   ├── treated_3_R1_001.fastq.gz\n",
      "    │   │   └── treated_3_R2_001.fastq.gz\n",
      "    │   ├── fastqc\n",
      "    │   │   ├── control_1_R1_001_fastqc.html\n",
      "    │   │   ├── control_1_R1_001_fastqc.zip\n",
      "    │   │   ├── control_1_R1_001_screen.html\n",
      "    │   │   ├── control_1_R1_001_screen.txt\n",
      "    │   │   ├── control_1_R2_001_fastqc.html\n",
      "    │   │   ├── control_1_R2_001_fastqc.zip\n",
      "    │   │   ├── control_1_R2_001_screen.html\n",
      "    │   │   ├── control_1_R2_001_screen.txt\n",
      "    │   │   ├── control_2_R1_001_fastqc.html\n",
      "    │   │   ├── control_2_R1_001_fastqc.zip\n",
      "    │   │   ├── control_2_R1_001_screen.html\n",
      "    │   │   ├── control_2_R1_001_screen.txt\n",
      "    │   │   ├── control_2_R2_001_fastqc.html\n",
      "    │   │   ├── control_2_R2_001_fastqc.zip\n",
      "    │   │   ├── control_2_R2_001_screen.html\n",
      "    │   │   ├── control_2_R2_001_screen.txt\n",
      "    │   │   ├── control_3_R1_001_fastqc.html\n",
      "    │   │   ├── control_3_R1_001_fastqc.zip\n",
      "    │   │   ├── control_3_R1_001_screen.html\n",
      "    │   │   ├── control_3_R1_001_screen.txt\n",
      "    │   │   ├── control_3_R2_001_fastqc.html\n",
      "    │   │   ├── control_3_R2_001_fastqc.zip\n",
      "    │   │   ├── control_3_R2_001_screen.html\n",
      "    │   │   ├── control_3_R2_001_screen.txt\n",
      "    │   │   ├── treated_1_R1_001_fastqc.html\n",
      "    │   │   ├── treated_1_R1_001_fastqc.zip\n",
      "    │   │   ├── treated_1_R1_001_screen.html\n",
      "    │   │   ├── treated_1_R1_001_screen.txt\n",
      "    │   │   ├── treated_1_R2_001_fastqc.html\n",
      "    │   │   ├── treated_1_R2_001_fastqc.zip\n",
      "    │   │   ├── treated_1_R2_001_screen.html\n",
      "    │   │   ├── treated_1_R2_001_screen.txt\n",
      "    │   │   ├── treated_2_R1_001_fastqc.html\n",
      "    │   │   ├── treated_2_R1_001_fastqc.zip\n",
      "    │   │   ├── treated_2_R1_001_screen.html\n",
      "    │   │   ├── treated_2_R1_001_screen.txt\n",
      "    │   │   ├── treated_2_R2_001_fastqc.html\n",
      "    │   │   ├── treated_2_R2_001_fastqc.zip\n",
      "    │   │   ├── treated_2_R2_001_screen.html\n",
      "    │   │   ├── treated_2_R2_001_screen.txt\n",
      "    │   │   ├── treated_3_R1_001_fastqc.html\n",
      "    │   │   ├── treated_3_R1_001_fastqc.zip\n",
      "    │   │   ├── treated_3_R1_001_screen.html\n",
      "    │   │   ├── treated_3_R1_001_screen.txt\n",
      "    │   │   ├── treated_3_R2_001_fastqc.html\n",
      "    │   │   ├── treated_3_R2_001_fastqc.zip\n",
      "    │   │   ├── treated_3_R2_001_screen.html\n",
      "    │   │   └── treated_3_R2_001_screen.txt\n",
      "    │   ├── featurecounts\n",
      "    │   │   ├── control_1\n",
      "    │   │   │   ├── control_1_counts.txt\n",
      "    │   │   │   └── control_1_counts.txt.summary\n",
      "    │   │   ├── control_2\n",
      "    │   │   │   ├── control_2_counts.txt\n",
      "    │   │   │   └── control_2_counts.txt.summary\n",
      "    │   │   ├── control_3\n",
      "    │   │   │   ├── control_3_counts.txt\n",
      "    │   │   │   └── control_3_counts.txt.summary\n",
      "    │   │   ├── treated_1\n",
      "    │   │   │   ├── treated_1_counts.txt\n",
      "    │   │   │   └── treated_1_counts.txt.summary\n",
      "    │   │   ├── treated_2\n",
      "    │   │   │   ├── treated_2_counts.txt\n",
      "    │   │   │   └── treated_2_counts.txt.summary\n",
      "    │   │   └── treated_3\n",
      "    │   │       ├── treated_3_counts.txt\n",
      "    │   │       └── treated_3_counts.txt.summary\n",
      "    │   ├── star\n",
      "    │   │   ├── control_1\n",
      "    │   │   │   ├── control_1Aligned.sortedByCoord.out.bam\n",
      "    │   │   │   ├── control_1Log.final.out\n",
      "    │   │   │   ├── control_1Log.out\n",
      "    │   │   │   ├── control_1Log.progress.out\n",
      "    │   │   │   └── control_1SJ.out.tab\n",
      "    │   │   ├── control_2\n",
      "    │   │   │   ├── control_2Aligned.sortedByCoord.out.bam\n",
      "    │   │   │   ├── control_2Log.final.out\n",
      "    │   │   │   ├── control_2Log.out\n",
      "    │   │   │   ├── control_2Log.progress.out\n",
      "    │   │   │   └── control_2SJ.out.tab\n",
      "    │   │   ├── control_3\n",
      "    │   │   │   ├── control_3Aligned.sortedByCoord.out.bam\n",
      "    │   │   │   ├── control_3Log.final.out\n",
      "    │   │   │   ├── control_3Log.out\n",
      "    │   │   │   ├── control_3Log.progress.out\n",
      "    │   │   │   └── control_3SJ.out.tab\n",
      "    │   │   ├── treated_1\n",
      "    │   │   │   ├── treated_1Aligned.sortedByCoord.out.bam\n",
      "    │   │   │   ├── treated_1Log.final.out\n",
      "    │   │   │   ├── treated_1Log.out\n",
      "    │   │   │   ├── treated_1Log.progress.out\n",
      "    │   │   │   └── treated_1SJ.out.tab\n",
      "    │   │   ├── treated_2\n",
      "    │   │   │   ├── treated_2Aligned.sortedByCoord.out.bam\n",
      "    │   │   │   ├── treated_2Log.final.out\n",
      "    │   │   │   ├── treated_2Log.out\n",
      "    │   │   │   ├── treated_2Log.progress.out\n",
      "    │   │   │   └── treated_2SJ.out.tab\n",
      "    │   │   └── treated_3\n",
      "    │   │       ├── treated_3Aligned.sortedByCoord.out.bam\n",
      "    │   │       ├── treated_3Log.final.out\n",
      "    │   │       ├── treated_3Log.out\n",
      "    │   │       ├── treated_3Log.progress.out\n",
      "    │   │       └── treated_3SJ.out.tab\n",
      "    │   └── star_summary\n",
      "    │       └── summary_matrix.txt\n",
      "    └── log\n",
      "        ├── error_copyFastq.txt\n",
      "        ├── error_deseq2.txt\n",
      "        ├── error_star.txt\n",
      "        ├── output_copyFastq.txt\n",
      "        ├── output_deseq2.txt\n",
      "        └── output_star.txt\n",
      "\n",
      "22 directories, 117 files\n",
      "\n"
     ]
    }
   ],
   "source": [
    "\n",
    "csl.Tree()\n"
   ]
  },
  {
   "cell_type": "markdown",
   "metadata": {},
   "source": [
    "### ======================================================================================\n",
   ]
  },
  {
   "cell_type": "markdown",
   "metadata": {},
   "source": [
    "# <font color='darkblue'> Copy specific results to your local computer (e.g copy all differential analysis results)\n",
    "### Open <font color='darkred'> terminal/bash <font color='black'> on your local computer then <font color='darkred'> copy+paste <font color='black'> the following:\n",
    "scp -r TypeYourCshlUsername@bamdev1:~/csl_results/data/deseq2/ . \n",
    "### Change <font color='darkred'> TypeYourCshlUsername <font color='black'> into you actual <font color='darkred'> CSHL username <font color='black'>\n",
    "### Press <font color='darkred'> enter/return <font color='black'>\n",
    "### It will ask to type your <font color='darkred'> CSHL password <font color='black'>\n",
    "### The files will be downloaded to your home folder on your local computer \n"
   ]
  },
  {
   "cell_type": "code",
   "execution_count": null,
   "metadata": {},
   "outputs": [],
   "source": []
  }
 ],
 "metadata": {
  "kernelspec": {
   "display_name": "Python/3.7.4 (src)",
   "language": "python",
   "name": "python_3.7.4-gcccore-8.3.0"
  },
  "language_info": {
   "codemirror_mode": {
    "name": "ipython",
    "version": 3
   },
   "file_extension": ".py",
   "mimetype": "text/x-python",
   "name": "python",
   "nbconvert_exporter": "python",
   "pygments_lexer": "ipython3",
   "version": "3.7.4"
  }
 },
 "nbformat": 4,
 "nbformat_minor": 5
}
