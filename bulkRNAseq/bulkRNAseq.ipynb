{
 "cells": [
  {
   "cell_type": "markdown",
   "metadata": {},
   "source": [
    "<div>\n",
    "<img src=\"../scripts_DoNotTouch/Logo.png\" width=\"150\"/>\n",
    "</div>"
   ]
  },
  {
   "cell_type": "markdown",
   "metadata": {},
   "source": [
    "# Welcome to CodeSpringLab for Bulk RNA-seq Analysis\n",
    "<a id='starting_point'></a>\n",
    "#### <font color='gray'> Created by Raditya Utama and Alex Dobin (Bioinformatics Shared Resources/BSR)\n",
    "#### <font color='gray'> Version 1 - March 2023\n",
    "#### <font color='gray'> Workflow\n",
    "#### <font color='white'> .\n",
    "<div>\n",
    "<img src=\"../scripts_DoNotTouch/flowchart.png\" width=\"1200\"/>\n",
    "</div>"
   ]
  },
  {
   "cell_type": "markdown",
   "metadata": {},
   "source": [
    "### ======================================================================================"
   ]
  },
  {
   "cell_type": "markdown",
   "metadata": {},
   "source": [
    "## <font color='darkred'> README\n",
    "#### - If there's a 'Not Trusted' toggle on the upper right, click on it to change it to 'Trusted' \n",
    "#### - Click on 'Kernel' menu above, go to 'Change kernel', and select 'Python/3.7.4 (src)' \n",
    "#### - Click restart symbol button on the menu above (below 'Kernel' menu) after downloading this notebook for the first time\n",
    "#### - If you're new to Jupyter notebook, you just have to hold <font color='darkred'> \"shift\" <font color='black'> and press <font color='darkred'> \"return/enter\" <font color='black'> to run each cell\n",
    "#### [Click here to watch basic Jupyter guide](https://youtu.be/jZ952vChhuI)\n",
    "#### - Copy + paste, or type any info if prompted by <font color='darkred'> fill-in-box <font color='black'> while running a cell\n",
    "#### - Running cell will have asterisk sign <font color='darkred'> [*] <font color='black'>  on its left. Any other cells can only run after the sign disappears\n",
    "#### - For the same <font color='darkred'> project name <font color='black'>, any output files will be <font color='darkred'> overwritten <font color='black'> when you rerun the same cell\n",
    "#### - Analyses will be submitted to our HPC cluster nodes to distribute multiple jobs simultaneously\n",
    "#### - Prepare <font color='darkred'> design_matrix.txt <font color='black'> file with a format below. Specifiy the path to folder where it's stored. <font color='darkred'>(Ignore this if you just want to use our example dataset)<font color='black'>\n",
    "All entries besides the last column entry should not contain space or hyphen. Header names can be <font color='darkred'> anything <font color='black'> you want and everything should be <font color='darkred'> tab <font color='black'> separated. Header should not contain plus sign. First column should be unique sample names. Last column should contain the fastq file names <font color='darkred'> [any label]_R1_001.fastq.gz <font color='black'> and <font color='darkred'> [any label]_R2_001.fastq.gz <font color='black'> separated by anything except tab. There should be at least 1 column in between, which provides the conditions you want to compare (e.g control, treated). If you have more than 1 column in between, those columns will be included in the expression linear model. Example below:\n",
    "#### <font color='white'> .\n",
    "<div>\n",
    "<img src=\"../scripts_DoNotTouch/design_matrix.png\" width=\"700\"/>\n",
    "</div>\n",
    "    \n",
    "#### - Prepare <font color='darkred'> genelist.txt <font color='black'> file if you want to plot heatmap with max 50 genes. Otherwise, you will have the option to use top 50 differential genes by typing <font color='darkred'> top50 <font color='black'> in differential analysis step. Specifiy the path to folder where it's stored. <font color='darkred'>(Ignore this if you just want to use our example dataset)<font color='black'>. Example below:\n",
    "#### <font color='white'> .\n",
    "<div>\n",
    "<img src=\"../scripts_DoNotTouch/genelist.png\" width=\"50\"/>\n",
    "</div>"
   ]
  },
  {
   "cell_type": "markdown",
   "metadata": {},
   "source": [
    "### ======================================================================================"
   ]
  },
  {
   "cell_type": "markdown",
   "metadata": {},
   "source": [
    "# <font color='darkred'> Here's the link if you need to jump to specific step: (see requirements)\n",
    "#### 1. Link to QC step (requires reads folder initialization): [FastQC](#fastqc_point)\n",
    "#### 2. Link to adapter trimming step (requires reads folder initialization): [Cutadapt](#cutadapt_point)\n",
    "#### 3. Link to alignment step (requires reads folder initialization): [STAR](#star_point)\n",
    "#### 4. Link to quantification step (requires results from STAR): [featureCounts](#featurecounts_point)\n",
    "#### 5. Link to differential analysis step (requires results from featureCounts): [DESeq2](#deseq2_point)\n",
    "#### 6. Link to visualization step (requires results from DESeq2): [Visualization](#visualization_point)\n",
    "#### 7. Link to find your result contents, locations, and copy to you local computer: [Find and copy results](#FindCopyResults_point)"
   ]
  },
  {
   "cell_type": "markdown",
   "metadata": {},
   "source": [
    "### ======================================================================================"
   ]
  },
  {
   "cell_type": "markdown",
   "metadata": {},
   "source": [
    "# <font color='darkblue'> Reads folder initialization\n",
    "### Please specify the genome, path to the original read files, and design matrix folders\n",
    "# <font color='darkred'> All required"
   ]
  },
  {
   "cell_type": "markdown",
   "metadata": {},
   "source": [
    "### Examples ###\n",
    "\n",
    "#### Path/folder provided by sequencing core would look as follows: <font color='darkred'>(this folder doesn't exist, just for display)<font color='black'>\n",
    "/mnt/grid/ngs/data/Elzar_Illumina/Lab/221214_NB501555_1107_AH73CNAFX5/Data/Intensities/BaseCalls/311964/\n",
    "#### or type the following to use our example data\n",
    "~/CodeSpringLab/scripts_DoNotTouch/test/fastq/\n",
    "\n",
    "#### Original and destination read folders will be stored in variables:\n",
    "read_path_original, read_path_destination\n",
    "\n",
    "#### Genome and read pairing info will be stored in variables:\n",
    "genome, pairing\n"
   ]
  },
  {
   "cell_type": "code",
   "execution_count": 1,
   "metadata": {},
   "outputs": [
    {
     "name": "stdout",
     "output_type": "stream",
     "text": [
      "Do you want to use your most recent project name, genome, design matrix, and reads folders:(e.g y/n)\n",
      "\u001b[91mIf this is your first time, type\u001b[94m n\u001b[0m\n",
      "y\n"
     ]
    }
   ],
   "source": [
    "\n",
    "import sys, pandas as pd, os, time, re; from IPython.display import Image; sys.path.append('../scripts_DoNotTouch/'); import make_config as mc; mc.config()\n",
    "import bulkRNAseq as csl\n",
    "\n",
    "read_path_original,read_path_destination,scriptpath_copy,genome,pairing,inpath_design = csl.filetransfer_Prep()\n"
   ]
  },
  {
   "cell_type": "markdown",
   "metadata": {},
   "source": [
    "### ======================================================================================"
   ]
  },
  {
   "cell_type": "markdown",
   "metadata": {},
   "source": [
    "# <font color='darkblue'> Copy raw read files (Fastq) to csl_results folder"
   ]
  },
  {
   "cell_type": "markdown",
   "metadata": {},
   "source": [
    "### File transfer step: Run copying command from original to destination folders"
   ]
  },
  {
   "cell_type": "code",
   "execution_count": 2,
   "metadata": {},
   "outputs": [
    {
     "name": "stdout",
     "output_type": "stream",
     "text": [
      "All jobs done !\n",
      ".........................\n",
      "Running time: 0.17 minutes\n"
     ]
    }
   ],
   "source": [
    "\n",
    "if 'jobid_Copy' in globals(): csl.DeleteJobs(jobid_Copy)\n",
    "jobid_Copy = csl.filetransfer_Copy(read_path_original,scriptpath_copy); csl.Qstat(jobid_Copy)\n"
   ]
  },
  {
   "cell_type": "markdown",
   "metadata": {},
   "source": [
    "### ======================================================================================"
   ]
  },
  {
   "cell_type": "markdown",
   "metadata": {},
   "source": [
    "# <font color='darkblue'> Check and convert step"
   ]
  },
  {
   "cell_type": "markdown",
   "metadata": {},
   "source": [
    "### Check if the copied files already in destination folder"
   ]
  },
  {
   "cell_type": "code",
   "execution_count": 3,
   "metadata": {},
   "outputs": [
    {
     "name": "stdout",
     "output_type": "stream",
     "text": [
      "Here's the list of contents:\n",
      "Index\n",
      "0     control2_R2_001.fastq.gz\n",
      "1     control3_R1_001.fastq.gz\n",
      "2     treated3_R1_001.fastq.gz\n",
      "3     treated3_R2_001.fastq.gz\n",
      "4     treated1_R2_001.fastq.gz\n",
      "5     treated2_R1_001.fastq.gz\n",
      "6     control1_R1_001.fastq.gz\n",
      "7     treated1_R1_001.fastq.gz\n",
      "8     control2_R1_001.fastq.gz\n",
      "9     control3_R2_001.fastq.gz\n",
      "10    treated2_R2_001.fastq.gz\n",
      "11    control1_R2_001.fastq.gz\n",
      "dtype: object\n"
     ]
    }
   ],
   "source": [
    "\n",
    "oldfiles = csl.filetransfer_ListDest(read_path_destination)\n"
   ]
  },
  {
   "cell_type": "markdown",
   "metadata": {},
   "source": [
    "### Convert fastq names as provided in your design matrix"
   ]
  },
  {
   "cell_type": "code",
   "execution_count": 4,
   "metadata": {},
   "outputs": [
    {
     "name": "stdout",
     "output_type": "stream",
     "text": [
      "Here's the list of name-converted read files:\n",
      "Index\n",
      "0     control_2_R1_001.fastq.gz\n",
      "1     control_1_R1_001.fastq.gz\n",
      "2     control_2_R2_001.fastq.gz\n",
      "3     control_3_R2_001.fastq.gz\n",
      "4     control_3_R1_001.fastq.gz\n",
      "5     control_1_R2_001.fastq.gz\n",
      "6     treated_3_R2_001.fastq.gz\n",
      "7     treated_3_R1_001.fastq.gz\n",
      "8     treated_2_R2_001.fastq.gz\n",
      "9     treated_1_R1_001.fastq.gz\n",
      "10    treated_1_R2_001.fastq.gz\n",
      "11    treated_2_R1_001.fastq.gz\n",
      "dtype: object\n"
     ]
    }
   ],
   "source": [
    "\n",
    "files = csl.filetransfer_Convert(read_path_destination,inpath_design)\n"
   ]
  },
  {
   "cell_type": "markdown",
   "metadata": {},
   "source": [
    "### [Click here if you want to return to very beginning](#starting_point)"
   ]
  },
  {
   "cell_type": "markdown",
   "metadata": {},
   "source": [
    "### ======================================================================================\n",
    "<a id='fastqc_point'></a>"
   ]
  },
  {
   "cell_type": "markdown",
   "metadata": {},
   "source": [
    "# <font color='darkblue'> FastQC and fastq-screen for quality control of the read files"
   ]
  },
  {
   "cell_type": "markdown",
   "metadata": {},
   "source": [
    "### QC step: Prepare required variables"
   ]
  },
  {
   "cell_type": "code",
   "execution_count": 4,
   "metadata": {},
   "outputs": [
    {
     "name": "stdout",
     "output_type": "stream",
     "text": [
      "FastQC results will be stored in ../../csl_results/example_dataset/data/fastqc/\n"
     ]
    }
   ],
   "source": [
    "\n",
    "if 'read_path_destination' in globals(): readlist,read_path_destination,outdir_fastqc,scriptpath_fastqc = csl.fastqc_Prep(read_path_destination)\n",
    "else:\n",
    "    read_path_destination = csl.fastqc_PrepDirect(); readlist,read_path_destination,outdir_fastqc,scriptpath_fastqc = csl.fastqc_Prep(read_path_destination)\n"
   ]
  },
  {
   "cell_type": "markdown",
   "metadata": {},
   "source": [
    "### QC step: Run QC on files from the list below"
   ]
  },
  {
   "cell_type": "code",
   "execution_count": 8,
   "metadata": {},
   "outputs": [
    {
     "name": "stdout",
     "output_type": "stream",
     "text": [
      "All jobs done !\n",
      ".........................\n",
      "Running time: 0.68 minutes\n"
     ]
    }
   ],
   "source": [
    "\n",
    "if 'jobid_QC' in globals(): csl.DeleteJobs(jobid_QC)\n",
    "jobid_QC = csl.fastqc_RunQC(readlist,outdir_fastqc,read_path_destination,scriptpath_fastqc); csl.Qstat(jobid_QC)\n"
   ]
  },
  {
   "cell_type": "code",
   "execution_count": 9,
   "metadata": {},
   "outputs": [
    {
     "data": {
      "text/html": [
       "\n",
       "        <iframe\n",
       "            width=\"1000\"\n",
       "            height=\"800\"\n",
       "            src=\"../../csl_results/example_dataset/data/fastqc/QC_list.html\"\n",
       "            frameborder=\"0\"\n",
       "            allowfullscreen\n",
       "        ></iframe>\n",
       "        "
      ],
      "text/plain": [
       "<IPython.lib.display.IFrame at 0x7fff1c429550>"
      ]
     },
     "execution_count": 9,
     "metadata": {},
     "output_type": "execute_result"
    }
   ],
   "source": [
    "\n",
    "csl.fastqc_ListDir(outdir_fastqc)\n"
   ]
  },
  {
   "cell_type": "markdown",
   "metadata": {},
   "source": [
    "### QC step: Visualize the results \n",
    "### <font color='darkred'> Select index to an HTML file from the list"
   ]
  },
  {
   "cell_type": "code",
   "execution_count": 9,
   "metadata": {},
   "outputs": [
    {
     "name": "stdout",
     "output_type": "stream",
     "text": [
      "0     control_1_R1_001_screen.html\n",
      "1     treated_1_R2_001_screen.html\n",
      "2     treated_3_R2_001_screen.html\n",
      "3     treated_1_R2_001_fastqc.html\n",
      "4     treated_2_R2_001_fastqc.html\n",
      "5     control_1_R1_001_fastqc.html\n",
      "6     control_3_R1_001_fastqc.html\n",
      "7     control_2_R2_001_screen.html\n",
      "8     treated_2_R1_001_screen.html\n",
      "9     control_2_R1_001_fastqc.html\n",
      "10    control_2_R2_001_fastqc.html\n",
      "11    treated_1_R1_001_fastqc.html\n",
      "12    treated_3_R1_001_fastqc.html\n",
      "13    treated_2_R2_001_screen.html\n",
      "14    control_1_R2_001_fastqc.html\n",
      "15    control_3_R2_001_fastqc.html\n",
      "16    control_3_R1_001_screen.html\n",
      "17    control_1_R2_001_screen.html\n",
      "18    control_3_R2_001_screen.html\n",
      "19    treated_1_R1_001_screen.html\n",
      "20    control_2_R1_001_screen.html\n",
      "21    treated_2_R1_001_fastqc.html\n",
      "22    treated_3_R2_001_fastqc.html\n",
      "23    treated_3_R1_001_screen.html\n",
      "dtype: object\n",
      "Specify index to visualize HTML file:(e.g 0)\n",
      "0\n"
     ]
    },
    {
     "data": {
      "text/html": [
       "\n",
       "        <iframe\n",
       "            width=\"1000\"\n",
       "            height=\"800\"\n",
       "            src=\"../../csl_results/example_dataset/data/fastqc/control_1_R1_001_screen.html\"\n",
       "            frameborder=\"0\"\n",
       "            allowfullscreen\n",
       "        ></iframe>\n",
       "        "
      ],
      "text/plain": [
       "<IPython.lib.display.IFrame at 0x7fff1c429550>"
      ]
     },
     "execution_count": 9,
     "metadata": {},
     "output_type": "execute_result"
    }
   ],
   "source": [
    "\n",
    "csl.fastqc_Visualization(outdir_fastqc)\n"
   ]
  },
  {
   "cell_type": "markdown",
   "metadata": {},
   "source": [
    "### [Click here if you want to return to very beginning](#starting_point)"
   ]
  },
  {
   "cell_type": "markdown",
   "metadata": {},
   "source": [
    "### ======================================================================================\n",
    "<a id='cutadapt_point'></a>"
   ]
  },
  {
   "cell_type": "markdown",
   "metadata": {},
   "source": [
    "# <font color='darkblue'> Cutadapt for adapter trimming"
   ]
  },
  {
   "cell_type": "markdown",
   "metadata": {},
   "source": [
    "### Adapter trimming step: Please specify the paths to the read files and output folders"
   ]
  },
  {
   "cell_type": "code",
   "execution_count": 5,
   "metadata": {},
   "outputs": [
    {
     "name": "stdout",
     "output_type": "stream",
     "text": [
      "Trimmed reads results will be stored in ../../csl_results/example_dataset/data/cutadapt/\n",
      "========================================\n",
      "Specify the adapter for R1/read1:\n",
      "AGATCGGAAGAGCACACGTCTGAACTCCAGTCA for Illumina Universal TruSeq RNA\n",
      "CTGTCTCTTATACACATCTCCGAGCCCACGAGAC for Nextera Transposase ATAC\n",
      "TGGAATTCTCGG for Illumina Small RNA 3' \n",
      "GATCGTCGGACT for Illumina Small RNA 5' \n",
      "AGATCGGAAGAGCACACGTCTGAACTCCAGTCA\n",
      "========================================\n",
      "Specify the adapter for R2/read2:\n",
      "AGATCGGAAGAGCGTCGTGTAGGGAAAGAGTGT for Illumina Universal TruSeq RNA\n",
      "CTGTCTCTTATACACATCTGACGCTGCCGACGA for Nextera Transposase ATAC\n",
      "TGGAATTCTCGG for Illumina Small RNA 3' \n",
      "GATCGTCGGACT for Illumina Small RNA 5' \n",
      "AGATCGGAAGAGCGTCGTGTAGGGAAAGAGTGT\n",
      "========================================\n",
      "Specify minimum length after trimming (default 20):\n",
      "20\n"
     ]
    }
   ],
   "source": [
    "\n",
    "adapter,adapter2,minlen,read1_list,read2_list,trimmed1_list,trimmed2_list,outdir_cutadapt,scriptpath_cutadapt=csl.cutadapt_Prep(read_path_destination,pairing)\n"
   ]
  },
  {
   "cell_type": "markdown",
   "metadata": {},
   "source": [
    "### Adapter trimming step: Run adapter trimming on prefixes from the list below"
   ]
  },
  {
   "cell_type": "code",
   "execution_count": 6,
   "metadata": {},
   "outputs": [
    {
     "name": "stdout",
     "output_type": "stream",
     "text": [
      "All jobs done !\n",
      ".........................\n",
      "Running time: 0.35 minutes\n"
     ]
    }
   ],
   "source": [
    "\n",
    "if 'jobid_Cutadapt' in globals(): csl.DeleteJobs(jobid_Cutadapt)\n",
    "jobid_Cutadapt = csl.cutadapt_RunTrimming(adapter,adapter2,minlen,read1_list,read2_list,trimmed1_list,trimmed2_list,scriptpath_cutadapt); csl.Qstat(jobid_Cutadapt)\n"
   ]
  },
  {
   "cell_type": "markdown",
   "metadata": {},
   "source": [
    "### Adapter trimming step: Check trimmed read results if already in output folder"
   ]
  },
  {
   "cell_type": "code",
   "execution_count": 7,
   "metadata": {},
   "outputs": [
    {
     "name": "stdout",
     "output_type": "stream",
     "text": [
      "Here's the list of contents:\n",
      "Index\n",
      "0     control_2_R1_001.fastq.gz\n",
      "1     control_1_R1_001.fastq.gz\n",
      "2     control_2_R2_001.fastq.gz\n",
      "3     control_3_R2_001.fastq.gz\n",
      "4     control_3_R1_001.fastq.gz\n",
      "5     control_1_R2_001.fastq.gz\n",
      "6     treated_3_R2_001.fastq.gz\n",
      "7     treated_3_R1_001.fastq.gz\n",
      "8     treated_2_R2_001.fastq.gz\n",
      "9     treated_1_R1_001.fastq.gz\n",
      "10    treated_1_R2_001.fastq.gz\n",
      "11    treated_2_R1_001.fastq.gz\n",
      "dtype: object\n"
     ]
    }
   ],
   "source": [
    "\n",
    "trimlist = csl.ListDir(outdir_cutadapt)\n"
   ]
  },
  {
   "cell_type": "markdown",
   "metadata": {},
   "source": [
    "### [Click here if you want to return to very beginning](#starting_point)"
   ]
  },
  {
   "cell_type": "markdown",
   "metadata": {},
   "source": [
    "### ======================================================================================\n",
    "<a id='cutadapt_point'></a>"
   ]
  },
  {
   "cell_type": "markdown",
   "metadata": {},
   "source": [
    "# <font color='darkblue'> STAR for read alignments and mapping"
   ]
  },
  {
   "cell_type": "markdown",
   "metadata": {},
   "source": [
    "### Alignment step: Prepare required variables"
   ]
  },
  {
   "cell_type": "code",
   "execution_count": 5,
   "metadata": {},
   "outputs": [
    {
     "name": "stdout",
     "output_type": "stream",
     "text": [
      "STAR alignment results will be stored in ../../csl_results/example_dataset/data/star/\n"
     ]
    }
   ],
   "source": [
    "\n",
    "if ('read_path_destination' in globals()) & ('genome' in globals()) & ('pairing' in globals()): genome_index_path,read1_list,read2_list,out_prefix_list,out_dir,scriptpath_star = csl.star_Prep(genome,pairing,read_path_destination)\n",
    "else:\n",
    "    genome,pairing,read_path_destination = csl.star_PrepDirect(); genome_index_path,read1_list,read2_list,out_prefix_list,out_dir,scriptpath_star = csl.star_Prep(genome,pairing,read_path_destination)\n"
   ]
  },
  {
   "cell_type": "markdown",
   "metadata": {},
   "source": [
    "### Alignment step: Run alignment of the specified read files to the genome"
   ]
  },
  {
   "cell_type": "code",
   "execution_count": 11,
   "metadata": {},
   "outputs": [
    {
     "name": "stdout",
     "output_type": "stream",
     "text": [
      "All jobs done !\n",
      ".........................\n",
      "Running time: 0.85 minutes\n"
     ]
    }
   ],
   "source": [
    "\n",
    "if 'jobid_STAR' in globals(): csl.DeleteJobs(jobid_STAR)\n",
    "jobid_STAR = csl.star_RunAlignment(genome_index_path,read1_list,read2_list,out_prefix_list,out_dir,scriptpath_star); csl.Qstat(jobid_STAR)\n"
   ]
  },
  {
   "cell_type": "markdown",
   "metadata": {},
   "source": [
    "### Alignment step: Check alignment results if already in output folder"
   ]
  },
  {
   "cell_type": "code",
   "execution_count": 12,
   "metadata": {},
   "outputs": [
    {
     "data": {
      "text/html": [
       "<div>\n",
       "<style scoped>\n",
       "    .dataframe tbody tr th:only-of-type {\n",
       "        vertical-align: middle;\n",
       "    }\n",
       "\n",
       "    .dataframe tbody tr th {\n",
       "        vertical-align: top;\n",
       "    }\n",
       "\n",
       "    .dataframe thead th {\n",
       "        text-align: right;\n",
       "    }\n",
       "</style>\n",
       "<table border=\"1\" class=\"dataframe\">\n",
       "  <thead>\n",
       "    <tr style=\"text-align: right;\">\n",
       "      <th></th>\n",
       "      <th>treated_1</th>\n",
       "      <th>treated_2</th>\n",
       "      <th>treated_3</th>\n",
       "      <th>control_1</th>\n",
       "      <th>control_2</th>\n",
       "      <th>control_3</th>\n",
       "    </tr>\n",
       "    <tr>\n",
       "      <th>0</th>\n",
       "      <th></th>\n",
       "      <th></th>\n",
       "      <th></th>\n",
       "      <th></th>\n",
       "      <th></th>\n",
       "      <th></th>\n",
       "    </tr>\n",
       "  </thead>\n",
       "  <tbody>\n",
       "    <tr>\n",
       "      <th>Started job on |</th>\n",
       "      <td>Mar 24 08:09:04</td>\n",
       "      <td>Mar 24 08:09:03</td>\n",
       "      <td>Mar 24 08:09:04</td>\n",
       "      <td>Mar 24 08:09:05</td>\n",
       "      <td>Mar 24 08:09:03</td>\n",
       "      <td>Mar 24 08:09:05</td>\n",
       "    </tr>\n",
       "    <tr>\n",
       "      <th>Started mapping on |</th>\n",
       "      <td>Mar 24 08:09:16</td>\n",
       "      <td>Mar 24 08:09:14</td>\n",
       "      <td>Mar 24 08:09:17</td>\n",
       "      <td>Mar 24 08:09:20</td>\n",
       "      <td>Mar 24 08:09:17</td>\n",
       "      <td>Mar 24 08:09:18</td>\n",
       "    </tr>\n",
       "    <tr>\n",
       "      <th>Finished on |</th>\n",
       "      <td>Mar 24 08:09:36</td>\n",
       "      <td>Mar 24 08:09:32</td>\n",
       "      <td>Mar 24 08:09:39</td>\n",
       "      <td>Mar 24 08:09:49</td>\n",
       "      <td>Mar 24 08:09:38</td>\n",
       "      <td>Mar 24 08:09:40</td>\n",
       "    </tr>\n",
       "    <tr>\n",
       "      <th>Mapping speed, Million of reads per hour |</th>\n",
       "      <td>180.00</td>\n",
       "      <td>200.00</td>\n",
       "      <td>163.64</td>\n",
       "      <td>124.14</td>\n",
       "      <td>171.43</td>\n",
       "      <td>163.64</td>\n",
       "    </tr>\n",
       "    <tr>\n",
       "      <th>Number of input reads |</th>\n",
       "      <td>1000000</td>\n",
       "      <td>1000000</td>\n",
       "      <td>1000000</td>\n",
       "      <td>1000000</td>\n",
       "      <td>1000000</td>\n",
       "      <td>1000000</td>\n",
       "    </tr>\n",
       "    <tr>\n",
       "      <th>Average input read length |</th>\n",
       "      <td>152</td>\n",
       "      <td>152</td>\n",
       "      <td>152</td>\n",
       "      <td>152</td>\n",
       "      <td>152</td>\n",
       "      <td>152</td>\n",
       "    </tr>\n",
       "    <tr>\n",
       "      <th>UNIQUE READS:</th>\n",
       "      <td>NaN</td>\n",
       "      <td>NaN</td>\n",
       "      <td>NaN</td>\n",
       "      <td>NaN</td>\n",
       "      <td>NaN</td>\n",
       "      <td>NaN</td>\n",
       "    </tr>\n",
       "    <tr>\n",
       "      <th>Uniquely mapped reads number |</th>\n",
       "      <td>819524</td>\n",
       "      <td>822060</td>\n",
       "      <td>822507</td>\n",
       "      <td>813285</td>\n",
       "      <td>820853</td>\n",
       "      <td>816274</td>\n",
       "    </tr>\n",
       "    <tr>\n",
       "      <th>Uniquely mapped reads % |</th>\n",
       "      <td>81.95%</td>\n",
       "      <td>82.21%</td>\n",
       "      <td>82.25%</td>\n",
       "      <td>81.33%</td>\n",
       "      <td>82.09%</td>\n",
       "      <td>81.63%</td>\n",
       "    </tr>\n",
       "    <tr>\n",
       "      <th>Average mapped length |</th>\n",
       "      <td>150.69</td>\n",
       "      <td>150.68</td>\n",
       "      <td>150.80</td>\n",
       "      <td>150.36</td>\n",
       "      <td>150.72</td>\n",
       "      <td>150.70</td>\n",
       "    </tr>\n",
       "    <tr>\n",
       "      <th>Number of splices: Total |</th>\n",
       "      <td>461912</td>\n",
       "      <td>456698</td>\n",
       "      <td>469763</td>\n",
       "      <td>458534</td>\n",
       "      <td>480997</td>\n",
       "      <td>470801</td>\n",
       "    </tr>\n",
       "    <tr>\n",
       "      <th>Number of splices: Annotated (sjdb) |</th>\n",
       "      <td>458703</td>\n",
       "      <td>453474</td>\n",
       "      <td>466657</td>\n",
       "      <td>455282</td>\n",
       "      <td>477679</td>\n",
       "      <td>467497</td>\n",
       "    </tr>\n",
       "    <tr>\n",
       "      <th>Number of splices: GT/AG |</th>\n",
       "      <td>456860</td>\n",
       "      <td>451589</td>\n",
       "      <td>464606</td>\n",
       "      <td>453316</td>\n",
       "      <td>475662</td>\n",
       "      <td>465479</td>\n",
       "    </tr>\n",
       "    <tr>\n",
       "      <th>Number of splices: GC/AG |</th>\n",
       "      <td>4042</td>\n",
       "      <td>4092</td>\n",
       "      <td>4238</td>\n",
       "      <td>4183</td>\n",
       "      <td>4275</td>\n",
       "      <td>4318</td>\n",
       "    </tr>\n",
       "    <tr>\n",
       "      <th>Number of splices: AT/AC |</th>\n",
       "      <td>519</td>\n",
       "      <td>534</td>\n",
       "      <td>460</td>\n",
       "      <td>547</td>\n",
       "      <td>586</td>\n",
       "      <td>560</td>\n",
       "    </tr>\n",
       "    <tr>\n",
       "      <th>Number of splices: Non-canonical |</th>\n",
       "      <td>491</td>\n",
       "      <td>483</td>\n",
       "      <td>459</td>\n",
       "      <td>488</td>\n",
       "      <td>474</td>\n",
       "      <td>444</td>\n",
       "    </tr>\n",
       "    <tr>\n",
       "      <th>Mismatch rate per base, % |</th>\n",
       "      <td>0.17%</td>\n",
       "      <td>0.17%</td>\n",
       "      <td>0.16%</td>\n",
       "      <td>0.20%</td>\n",
       "      <td>0.17%</td>\n",
       "      <td>0.17%</td>\n",
       "    </tr>\n",
       "    <tr>\n",
       "      <th>Deletion rate per base |</th>\n",
       "      <td>0.01%</td>\n",
       "      <td>0.01%</td>\n",
       "      <td>0.01%</td>\n",
       "      <td>0.01%</td>\n",
       "      <td>0.01%</td>\n",
       "      <td>0.01%</td>\n",
       "    </tr>\n",
       "    <tr>\n",
       "      <th>Deletion average length |</th>\n",
       "      <td>2.04</td>\n",
       "      <td>2.13</td>\n",
       "      <td>1.65</td>\n",
       "      <td>2.14</td>\n",
       "      <td>1.60</td>\n",
       "      <td>1.96</td>\n",
       "    </tr>\n",
       "    <tr>\n",
       "      <th>Insertion rate per base |</th>\n",
       "      <td>0.01%</td>\n",
       "      <td>0.01%</td>\n",
       "      <td>0.01%</td>\n",
       "      <td>0.01%</td>\n",
       "      <td>0.01%</td>\n",
       "      <td>0.01%</td>\n",
       "    </tr>\n",
       "    <tr>\n",
       "      <th>Insertion average length |</th>\n",
       "      <td>1.22</td>\n",
       "      <td>1.23</td>\n",
       "      <td>1.19</td>\n",
       "      <td>1.17</td>\n",
       "      <td>1.17</td>\n",
       "      <td>1.19</td>\n",
       "    </tr>\n",
       "    <tr>\n",
       "      <th>MULTI-MAPPING READS:</th>\n",
       "      <td>NaN</td>\n",
       "      <td>NaN</td>\n",
       "      <td>NaN</td>\n",
       "      <td>NaN</td>\n",
       "      <td>NaN</td>\n",
       "      <td>NaN</td>\n",
       "    </tr>\n",
       "    <tr>\n",
       "      <th>Number of reads mapped to multiple loci |</th>\n",
       "      <td>46725</td>\n",
       "      <td>46703</td>\n",
       "      <td>47141</td>\n",
       "      <td>50436</td>\n",
       "      <td>48473</td>\n",
       "      <td>47758</td>\n",
       "    </tr>\n",
       "    <tr>\n",
       "      <th>% of reads mapped to multiple loci |</th>\n",
       "      <td>4.67%</td>\n",
       "      <td>4.67%</td>\n",
       "      <td>4.71%</td>\n",
       "      <td>5.04%</td>\n",
       "      <td>4.85%</td>\n",
       "      <td>4.78%</td>\n",
       "    </tr>\n",
       "    <tr>\n",
       "      <th>Number of reads mapped to too many loci |</th>\n",
       "      <td>28535</td>\n",
       "      <td>28796</td>\n",
       "      <td>28957</td>\n",
       "      <td>28393</td>\n",
       "      <td>29002</td>\n",
       "      <td>28195</td>\n",
       "    </tr>\n",
       "    <tr>\n",
       "      <th>% of reads mapped to too many loci |</th>\n",
       "      <td>2.85%</td>\n",
       "      <td>2.88%</td>\n",
       "      <td>2.90%</td>\n",
       "      <td>2.84%</td>\n",
       "      <td>2.90%</td>\n",
       "      <td>2.82%</td>\n",
       "    </tr>\n",
       "    <tr>\n",
       "      <th>UNMAPPED READS:</th>\n",
       "      <td>NaN</td>\n",
       "      <td>NaN</td>\n",
       "      <td>NaN</td>\n",
       "      <td>NaN</td>\n",
       "      <td>NaN</td>\n",
       "      <td>NaN</td>\n",
       "    </tr>\n",
       "    <tr>\n",
       "      <th>Number of reads unmapped: too many mismatches |</th>\n",
       "      <td>0</td>\n",
       "      <td>0</td>\n",
       "      <td>0</td>\n",
       "      <td>0</td>\n",
       "      <td>0</td>\n",
       "      <td>0</td>\n",
       "    </tr>\n",
       "    <tr>\n",
       "      <th>% of reads unmapped: too many mismatches |</th>\n",
       "      <td>0.00%</td>\n",
       "      <td>0.00%</td>\n",
       "      <td>0.00%</td>\n",
       "      <td>0.00%</td>\n",
       "      <td>0.00%</td>\n",
       "      <td>0.00%</td>\n",
       "    </tr>\n",
       "    <tr>\n",
       "      <th>Number of reads unmapped: too short |</th>\n",
       "      <td>103947</td>\n",
       "      <td>101079</td>\n",
       "      <td>100092</td>\n",
       "      <td>106611</td>\n",
       "      <td>100355</td>\n",
       "      <td>106390</td>\n",
       "    </tr>\n",
       "    <tr>\n",
       "      <th>% of reads unmapped: too short |</th>\n",
       "      <td>10.39%</td>\n",
       "      <td>10.11%</td>\n",
       "      <td>10.01%</td>\n",
       "      <td>10.66%</td>\n",
       "      <td>10.04%</td>\n",
       "      <td>10.64%</td>\n",
       "    </tr>\n",
       "    <tr>\n",
       "      <th>Number of reads unmapped: other |</th>\n",
       "      <td>1269</td>\n",
       "      <td>1362</td>\n",
       "      <td>1303</td>\n",
       "      <td>1275</td>\n",
       "      <td>1317</td>\n",
       "      <td>1383</td>\n",
       "    </tr>\n",
       "    <tr>\n",
       "      <th>% of reads unmapped: other |</th>\n",
       "      <td>0.13%</td>\n",
       "      <td>0.14%</td>\n",
       "      <td>0.13%</td>\n",
       "      <td>0.13%</td>\n",
       "      <td>0.13%</td>\n",
       "      <td>0.14%</td>\n",
       "    </tr>\n",
       "    <tr>\n",
       "      <th>CHIMERIC READS:</th>\n",
       "      <td>NaN</td>\n",
       "      <td>NaN</td>\n",
       "      <td>NaN</td>\n",
       "      <td>NaN</td>\n",
       "      <td>NaN</td>\n",
       "      <td>NaN</td>\n",
       "    </tr>\n",
       "    <tr>\n",
       "      <th>Number of chimeric reads |</th>\n",
       "      <td>0</td>\n",
       "      <td>0</td>\n",
       "      <td>0</td>\n",
       "      <td>0</td>\n",
       "      <td>0</td>\n",
       "      <td>0</td>\n",
       "    </tr>\n",
       "    <tr>\n",
       "      <th>% of chimeric reads |</th>\n",
       "      <td>0.00%</td>\n",
       "      <td>0.00%</td>\n",
       "      <td>0.00%</td>\n",
       "      <td>0.00%</td>\n",
       "      <td>0.00%</td>\n",
       "      <td>0.00%</td>\n",
       "    </tr>\n",
       "  </tbody>\n",
       "</table>\n",
       "</div>"
      ],
      "text/plain": [
       "                                                         treated_1  \\\n",
       "0                                                                    \n",
       "                                 Started job on |  Mar 24 08:09:04   \n",
       "                             Started mapping on |  Mar 24 08:09:16   \n",
       "                                    Finished on |  Mar 24 08:09:36   \n",
       "       Mapping speed, Million of reads per hour |           180.00   \n",
       "                          Number of input reads |          1000000   \n",
       "                      Average input read length |              152   \n",
       "                                    UNIQUE READS:              NaN   \n",
       "                   Uniquely mapped reads number |           819524   \n",
       "                        Uniquely mapped reads % |           81.95%   \n",
       "                          Average mapped length |           150.69   \n",
       "                       Number of splices: Total |           461912   \n",
       "            Number of splices: Annotated (sjdb) |           458703   \n",
       "                       Number of splices: GT/AG |           456860   \n",
       "                       Number of splices: GC/AG |             4042   \n",
       "                       Number of splices: AT/AC |              519   \n",
       "               Number of splices: Non-canonical |              491   \n",
       "                      Mismatch rate per base, % |            0.17%   \n",
       "                         Deletion rate per base |            0.01%   \n",
       "                        Deletion average length |             2.04   \n",
       "                        Insertion rate per base |            0.01%   \n",
       "                       Insertion average length |             1.22   \n",
       "                             MULTI-MAPPING READS:              NaN   \n",
       "        Number of reads mapped to multiple loci |            46725   \n",
       "             % of reads mapped to multiple loci |            4.67%   \n",
       "        Number of reads mapped to too many loci |            28535   \n",
       "             % of reads mapped to too many loci |            2.85%   \n",
       "                                  UNMAPPED READS:              NaN   \n",
       "  Number of reads unmapped: too many mismatches |                0   \n",
       "       % of reads unmapped: too many mismatches |            0.00%   \n",
       "            Number of reads unmapped: too short |           103947   \n",
       "                 % of reads unmapped: too short |           10.39%   \n",
       "                Number of reads unmapped: other |             1269   \n",
       "                     % of reads unmapped: other |            0.13%   \n",
       "                                  CHIMERIC READS:              NaN   \n",
       "                       Number of chimeric reads |                0   \n",
       "                            % of chimeric reads |            0.00%   \n",
       "\n",
       "                                                         treated_2  \\\n",
       "0                                                                    \n",
       "                                 Started job on |  Mar 24 08:09:03   \n",
       "                             Started mapping on |  Mar 24 08:09:14   \n",
       "                                    Finished on |  Mar 24 08:09:32   \n",
       "       Mapping speed, Million of reads per hour |           200.00   \n",
       "                          Number of input reads |          1000000   \n",
       "                      Average input read length |              152   \n",
       "                                    UNIQUE READS:              NaN   \n",
       "                   Uniquely mapped reads number |           822060   \n",
       "                        Uniquely mapped reads % |           82.21%   \n",
       "                          Average mapped length |           150.68   \n",
       "                       Number of splices: Total |           456698   \n",
       "            Number of splices: Annotated (sjdb) |           453474   \n",
       "                       Number of splices: GT/AG |           451589   \n",
       "                       Number of splices: GC/AG |             4092   \n",
       "                       Number of splices: AT/AC |              534   \n",
       "               Number of splices: Non-canonical |              483   \n",
       "                      Mismatch rate per base, % |            0.17%   \n",
       "                         Deletion rate per base |            0.01%   \n",
       "                        Deletion average length |             2.13   \n",
       "                        Insertion rate per base |            0.01%   \n",
       "                       Insertion average length |             1.23   \n",
       "                             MULTI-MAPPING READS:              NaN   \n",
       "        Number of reads mapped to multiple loci |            46703   \n",
       "             % of reads mapped to multiple loci |            4.67%   \n",
       "        Number of reads mapped to too many loci |            28796   \n",
       "             % of reads mapped to too many loci |            2.88%   \n",
       "                                  UNMAPPED READS:              NaN   \n",
       "  Number of reads unmapped: too many mismatches |                0   \n",
       "       % of reads unmapped: too many mismatches |            0.00%   \n",
       "            Number of reads unmapped: too short |           101079   \n",
       "                 % of reads unmapped: too short |           10.11%   \n",
       "                Number of reads unmapped: other |             1362   \n",
       "                     % of reads unmapped: other |            0.14%   \n",
       "                                  CHIMERIC READS:              NaN   \n",
       "                       Number of chimeric reads |                0   \n",
       "                            % of chimeric reads |            0.00%   \n",
       "\n",
       "                                                         treated_3  \\\n",
       "0                                                                    \n",
       "                                 Started job on |  Mar 24 08:09:04   \n",
       "                             Started mapping on |  Mar 24 08:09:17   \n",
       "                                    Finished on |  Mar 24 08:09:39   \n",
       "       Mapping speed, Million of reads per hour |           163.64   \n",
       "                          Number of input reads |          1000000   \n",
       "                      Average input read length |              152   \n",
       "                                    UNIQUE READS:              NaN   \n",
       "                   Uniquely mapped reads number |           822507   \n",
       "                        Uniquely mapped reads % |           82.25%   \n",
       "                          Average mapped length |           150.80   \n",
       "                       Number of splices: Total |           469763   \n",
       "            Number of splices: Annotated (sjdb) |           466657   \n",
       "                       Number of splices: GT/AG |           464606   \n",
       "                       Number of splices: GC/AG |             4238   \n",
       "                       Number of splices: AT/AC |              460   \n",
       "               Number of splices: Non-canonical |              459   \n",
       "                      Mismatch rate per base, % |            0.16%   \n",
       "                         Deletion rate per base |            0.01%   \n",
       "                        Deletion average length |             1.65   \n",
       "                        Insertion rate per base |            0.01%   \n",
       "                       Insertion average length |             1.19   \n",
       "                             MULTI-MAPPING READS:              NaN   \n",
       "        Number of reads mapped to multiple loci |            47141   \n",
       "             % of reads mapped to multiple loci |            4.71%   \n",
       "        Number of reads mapped to too many loci |            28957   \n",
       "             % of reads mapped to too many loci |            2.90%   \n",
       "                                  UNMAPPED READS:              NaN   \n",
       "  Number of reads unmapped: too many mismatches |                0   \n",
       "       % of reads unmapped: too many mismatches |            0.00%   \n",
       "            Number of reads unmapped: too short |           100092   \n",
       "                 % of reads unmapped: too short |           10.01%   \n",
       "                Number of reads unmapped: other |             1303   \n",
       "                     % of reads unmapped: other |            0.13%   \n",
       "                                  CHIMERIC READS:              NaN   \n",
       "                       Number of chimeric reads |                0   \n",
       "                            % of chimeric reads |            0.00%   \n",
       "\n",
       "                                                         control_1  \\\n",
       "0                                                                    \n",
       "                                 Started job on |  Mar 24 08:09:05   \n",
       "                             Started mapping on |  Mar 24 08:09:20   \n",
       "                                    Finished on |  Mar 24 08:09:49   \n",
       "       Mapping speed, Million of reads per hour |           124.14   \n",
       "                          Number of input reads |          1000000   \n",
       "                      Average input read length |              152   \n",
       "                                    UNIQUE READS:              NaN   \n",
       "                   Uniquely mapped reads number |           813285   \n",
       "                        Uniquely mapped reads % |           81.33%   \n",
       "                          Average mapped length |           150.36   \n",
       "                       Number of splices: Total |           458534   \n",
       "            Number of splices: Annotated (sjdb) |           455282   \n",
       "                       Number of splices: GT/AG |           453316   \n",
       "                       Number of splices: GC/AG |             4183   \n",
       "                       Number of splices: AT/AC |              547   \n",
       "               Number of splices: Non-canonical |              488   \n",
       "                      Mismatch rate per base, % |            0.20%   \n",
       "                         Deletion rate per base |            0.01%   \n",
       "                        Deletion average length |             2.14   \n",
       "                        Insertion rate per base |            0.01%   \n",
       "                       Insertion average length |             1.17   \n",
       "                             MULTI-MAPPING READS:              NaN   \n",
       "        Number of reads mapped to multiple loci |            50436   \n",
       "             % of reads mapped to multiple loci |            5.04%   \n",
       "        Number of reads mapped to too many loci |            28393   \n",
       "             % of reads mapped to too many loci |            2.84%   \n",
       "                                  UNMAPPED READS:              NaN   \n",
       "  Number of reads unmapped: too many mismatches |                0   \n",
       "       % of reads unmapped: too many mismatches |            0.00%   \n",
       "            Number of reads unmapped: too short |           106611   \n",
       "                 % of reads unmapped: too short |           10.66%   \n",
       "                Number of reads unmapped: other |             1275   \n",
       "                     % of reads unmapped: other |            0.13%   \n",
       "                                  CHIMERIC READS:              NaN   \n",
       "                       Number of chimeric reads |                0   \n",
       "                            % of chimeric reads |            0.00%   \n",
       "\n",
       "                                                         control_2  \\\n",
       "0                                                                    \n",
       "                                 Started job on |  Mar 24 08:09:03   \n",
       "                             Started mapping on |  Mar 24 08:09:17   \n",
       "                                    Finished on |  Mar 24 08:09:38   \n",
       "       Mapping speed, Million of reads per hour |           171.43   \n",
       "                          Number of input reads |          1000000   \n",
       "                      Average input read length |              152   \n",
       "                                    UNIQUE READS:              NaN   \n",
       "                   Uniquely mapped reads number |           820853   \n",
       "                        Uniquely mapped reads % |           82.09%   \n",
       "                          Average mapped length |           150.72   \n",
       "                       Number of splices: Total |           480997   \n",
       "            Number of splices: Annotated (sjdb) |           477679   \n",
       "                       Number of splices: GT/AG |           475662   \n",
       "                       Number of splices: GC/AG |             4275   \n",
       "                       Number of splices: AT/AC |              586   \n",
       "               Number of splices: Non-canonical |              474   \n",
       "                      Mismatch rate per base, % |            0.17%   \n",
       "                         Deletion rate per base |            0.01%   \n",
       "                        Deletion average length |             1.60   \n",
       "                        Insertion rate per base |            0.01%   \n",
       "                       Insertion average length |             1.17   \n",
       "                             MULTI-MAPPING READS:              NaN   \n",
       "        Number of reads mapped to multiple loci |            48473   \n",
       "             % of reads mapped to multiple loci |            4.85%   \n",
       "        Number of reads mapped to too many loci |            29002   \n",
       "             % of reads mapped to too many loci |            2.90%   \n",
       "                                  UNMAPPED READS:              NaN   \n",
       "  Number of reads unmapped: too many mismatches |                0   \n",
       "       % of reads unmapped: too many mismatches |            0.00%   \n",
       "            Number of reads unmapped: too short |           100355   \n",
       "                 % of reads unmapped: too short |           10.04%   \n",
       "                Number of reads unmapped: other |             1317   \n",
       "                     % of reads unmapped: other |            0.13%   \n",
       "                                  CHIMERIC READS:              NaN   \n",
       "                       Number of chimeric reads |                0   \n",
       "                            % of chimeric reads |            0.00%   \n",
       "\n",
       "                                                         control_3  \n",
       "0                                                                   \n",
       "                                 Started job on |  Mar 24 08:09:05  \n",
       "                             Started mapping on |  Mar 24 08:09:18  \n",
       "                                    Finished on |  Mar 24 08:09:40  \n",
       "       Mapping speed, Million of reads per hour |           163.64  \n",
       "                          Number of input reads |          1000000  \n",
       "                      Average input read length |              152  \n",
       "                                    UNIQUE READS:              NaN  \n",
       "                   Uniquely mapped reads number |           816274  \n",
       "                        Uniquely mapped reads % |           81.63%  \n",
       "                          Average mapped length |           150.70  \n",
       "                       Number of splices: Total |           470801  \n",
       "            Number of splices: Annotated (sjdb) |           467497  \n",
       "                       Number of splices: GT/AG |           465479  \n",
       "                       Number of splices: GC/AG |             4318  \n",
       "                       Number of splices: AT/AC |              560  \n",
       "               Number of splices: Non-canonical |              444  \n",
       "                      Mismatch rate per base, % |            0.17%  \n",
       "                         Deletion rate per base |            0.01%  \n",
       "                        Deletion average length |             1.96  \n",
       "                        Insertion rate per base |            0.01%  \n",
       "                       Insertion average length |             1.19  \n",
       "                             MULTI-MAPPING READS:              NaN  \n",
       "        Number of reads mapped to multiple loci |            47758  \n",
       "             % of reads mapped to multiple loci |            4.78%  \n",
       "        Number of reads mapped to too many loci |            28195  \n",
       "             % of reads mapped to too many loci |            2.82%  \n",
       "                                  UNMAPPED READS:              NaN  \n",
       "  Number of reads unmapped: too many mismatches |                0  \n",
       "       % of reads unmapped: too many mismatches |            0.00%  \n",
       "            Number of reads unmapped: too short |           106390  \n",
       "                 % of reads unmapped: too short |           10.64%  \n",
       "                Number of reads unmapped: other |             1383  \n",
       "                     % of reads unmapped: other |            0.14%  \n",
       "                                  CHIMERIC READS:              NaN  \n",
       "                       Number of chimeric reads |                0  \n",
       "                            % of chimeric reads |            0.00%  "
      ]
     },
     "execution_count": 12,
     "metadata": {},
     "output_type": "execute_result"
    }
   ],
   "source": [
    "\n",
    "summary_matrix = csl.star_ListDir(out_dir); summary_matrix\n"
   ]
  },
  {
   "cell_type": "markdown",
   "metadata": {},
   "source": [
    "### ======================================================================================\n",
    "<a id='featurecounts_point'></a>"
   ]
  },
  {
   "cell_type": "markdown",
   "metadata": {},
   "source": [
    "# <font color='darkblue'> (Optional) Kallisto for read pseudo-alignments and mapping"
   ]
  },
  {
   "cell_type": "markdown",
   "metadata": {},
   "source": [
    "### Pseudo-alignment step: Prepare required variables"
   ]
  },
  {
   "cell_type": "code",
   "execution_count": 8,
   "metadata": {},
   "outputs": [
    {
     "name": "stdout",
     "output_type": "stream",
     "text": [
      "========================================\n",
      "If you have trimmed the adapters with cutadapt prior, do you want to use these trimmed reads instead?:(y/n)\n",
      "y\n",
      "========================================\n",
      "Kallisto pseudo-alignment results will be stored in ../../csl_results/example_dataset/data/kallisto/\n"
     ]
    }
   ],
   "source": [
    "\n",
    "if ('read_path_destination' in globals()) & ('genome' in globals()) & ('pairing' in globals()): genome_index_path,read1_list,read2_list,out_prefix_list,out_dir,scriptpath_kallisto = csl.kallisto_Prep(genome,pairing,read_path_destination)\n",
    "else:\n",
    "    genome,pairing,read_path_destination = csl.kallisto_PrepDirect(); genome_index_path,read1_list,read2_list,out_prefix_list,out_dir,scriptpath_kallisto = csl.kallisto_Prep(genome,pairing,read_path_destination)\n"
   ]
  },
  {
   "cell_type": "markdown",
   "metadata": {},
   "source": [
    "### Pseudo-alignment step: Run pseudo-alignment of the specified read files to the genome"
   ]
  },
  {
   "cell_type": "code",
   "execution_count": 9,
   "metadata": {},
   "outputs": [
    {
     "name": "stdout",
     "output_type": "stream",
     "text": [
      "All jobs done !\n",
      ".........................\n",
      "Running time: 4.1 minutes\n"
     ]
    }
   ],
   "source": [
    "\n",
    "if 'jobid_Kallisto' in globals(): csl.DeleteJobs(jobid_Kallisto)\n",
    "jobid_Kallisto = csl.kallisto_RunAlignment(genome_index_path,read1_list,read2_list,out_prefix_list,out_dir,scriptpath_kallisto); csl.Qstat(jobid_Kallisto)\n"
   ]
  },
  {
   "cell_type": "markdown",
   "metadata": {},
   "source": [
    "### [Click here if you want to return to very beginning](#starting_point)"
   ]
  },
  {
   "cell_type": "markdown",
   "metadata": {},
   "source": [
    "### ======================================================================================\n",
    "<a id='featurecounts_point'></a>"
   ]
  },
  {
   "cell_type": "markdown",
   "metadata": {},
   "source": [
    "# <font color='darkblue'> featureCounts for gene count quantification"
   ]
  },
  {
   "cell_type": "markdown",
   "metadata": {},
   "source": [
    "### Quantification step: Prepare required variables"
   ]
  },
  {
   "cell_type": "code",
   "execution_count": 6,
   "metadata": {},
   "outputs": [
    {
     "name": "stdout",
     "output_type": "stream",
     "text": [
      "Specify the genomic feature to quantify (e.g gene_name, gene_id, etc):\n",
      "gene_name\n"
     ]
    }
   ],
   "source": [
    "\n",
    "if ('out_dir' in globals()) & ('genome' in globals()): scriptpath_featurecounts,GTF,bam_list,count_prefix_list,prefix,feature,strandBED = csl.featurecounts_Prep(genome,out_dir,pairing)\n",
    "else: \n",
    "    genome,pairing,out_dir=csl.featurecounts_PrepDirect(); scriptpath_featurecounts,GTF,bam_list,count_prefix_list,prefix,feature,strandBED = csl.featurecounts_Prep(genome,out_dir,pairing)\n"
   ]
  },
  {
   "cell_type": "markdown",
   "metadata": {},
   "source": [
    "### Quantification step: Run feature quantification of the alignment files (BAM) with genome annotation"
   ]
  },
  {
   "cell_type": "code",
   "execution_count": 14,
   "metadata": {
    "scrolled": true
   },
   "outputs": [
    {
     "name": "stdout",
     "output_type": "stream",
     "text": [
      "All jobs done !\n",
      ".........................\n",
      "Running time: 0.17 minutes\n"
     ]
    }
   ],
   "source": [
    "\n",
    "if 'jobid_featureCounts' in globals(): csl.DeleteJobs(jobid_featureCounts)\n",
    "jobid_featureCounts = csl.featurecounts_RunQuantification(scriptpath_featurecounts,GTF,bam_list,count_prefix_list,feature,strandBED); csl.Qstat(jobid_featureCounts)\n"
   ]
  },
  {
   "cell_type": "markdown",
   "metadata": {},
   "source": [
    "### Quantification step: Check counts summary"
   ]
  },
  {
   "cell_type": "code",
   "execution_count": 15,
   "metadata": {},
   "outputs": [
    {
     "name": "stdout",
     "output_type": "stream",
     "text": [
      "Featurecounts summary matrix is stored in ../../csl_results/example_dataset/data/counts/\n"
     ]
    },
    {
     "data": {
      "text/html": [
       "<div>\n",
       "<style scoped>\n",
       "    .dataframe tbody tr th:only-of-type {\n",
       "        vertical-align: middle;\n",
       "    }\n",
       "\n",
       "    .dataframe tbody tr th {\n",
       "        vertical-align: top;\n",
       "    }\n",
       "\n",
       "    .dataframe thead th {\n",
       "        text-align: right;\n",
       "    }\n",
       "</style>\n",
       "<table border=\"1\" class=\"dataframe\">\n",
       "  <thead>\n",
       "    <tr style=\"text-align: right;\">\n",
       "      <th></th>\n",
       "      <th>treated_1</th>\n",
       "      <th>treated_2</th>\n",
       "      <th>treated_3</th>\n",
       "      <th>control_1</th>\n",
       "      <th>control_2</th>\n",
       "      <th>control_3</th>\n",
       "    </tr>\n",
       "    <tr>\n",
       "      <th>0</th>\n",
       "      <th></th>\n",
       "      <th></th>\n",
       "      <th></th>\n",
       "      <th></th>\n",
       "      <th></th>\n",
       "      <th></th>\n",
       "    </tr>\n",
       "  </thead>\n",
       "  <tbody>\n",
       "    <tr>\n",
       "      <th>Status</th>\n",
       "      <td>../../csl_results/example_dataset/data/star/tr...</td>\n",
       "      <td>../../csl_results/example_dataset/data/star/tr...</td>\n",
       "      <td>../../csl_results/example_dataset/data/star/tr...</td>\n",
       "      <td>../../csl_results/example_dataset/data/star/co...</td>\n",
       "      <td>../../csl_results/example_dataset/data/star/co...</td>\n",
       "      <td>../../csl_results/example_dataset/data/star/co...</td>\n",
       "    </tr>\n",
       "    <tr>\n",
       "      <th>Assigned</th>\n",
       "      <td>734333</td>\n",
       "      <td>729007</td>\n",
       "      <td>737339</td>\n",
       "      <td>734436</td>\n",
       "      <td>744667</td>\n",
       "      <td>734978</td>\n",
       "    </tr>\n",
       "    <tr>\n",
       "      <th>Unassigned_Unmapped</th>\n",
       "      <td>0</td>\n",
       "      <td>0</td>\n",
       "      <td>0</td>\n",
       "      <td>0</td>\n",
       "      <td>0</td>\n",
       "      <td>0</td>\n",
       "    </tr>\n",
       "    <tr>\n",
       "      <th>Unassigned_Read_Type</th>\n",
       "      <td>0</td>\n",
       "      <td>0</td>\n",
       "      <td>0</td>\n",
       "      <td>0</td>\n",
       "      <td>0</td>\n",
       "      <td>0</td>\n",
       "    </tr>\n",
       "    <tr>\n",
       "      <th>Unassigned_Singleton</th>\n",
       "      <td>0</td>\n",
       "      <td>0</td>\n",
       "      <td>0</td>\n",
       "      <td>0</td>\n",
       "      <td>0</td>\n",
       "      <td>0</td>\n",
       "    </tr>\n",
       "    <tr>\n",
       "      <th>Unassigned_MappingQuality</th>\n",
       "      <td>0</td>\n",
       "      <td>0</td>\n",
       "      <td>0</td>\n",
       "      <td>0</td>\n",
       "      <td>0</td>\n",
       "      <td>0</td>\n",
       "    </tr>\n",
       "    <tr>\n",
       "      <th>Unassigned_Chimera</th>\n",
       "      <td>0</td>\n",
       "      <td>0</td>\n",
       "      <td>0</td>\n",
       "      <td>0</td>\n",
       "      <td>0</td>\n",
       "      <td>0</td>\n",
       "    </tr>\n",
       "    <tr>\n",
       "      <th>Unassigned_FragmentLength</th>\n",
       "      <td>0</td>\n",
       "      <td>0</td>\n",
       "      <td>0</td>\n",
       "      <td>0</td>\n",
       "      <td>0</td>\n",
       "      <td>0</td>\n",
       "    </tr>\n",
       "    <tr>\n",
       "      <th>Unassigned_Duplicate</th>\n",
       "      <td>0</td>\n",
       "      <td>0</td>\n",
       "      <td>0</td>\n",
       "      <td>0</td>\n",
       "      <td>0</td>\n",
       "      <td>0</td>\n",
       "    </tr>\n",
       "    <tr>\n",
       "      <th>Unassigned_MultiMapping</th>\n",
       "      <td>93450</td>\n",
       "      <td>93406</td>\n",
       "      <td>94282</td>\n",
       "      <td>100872</td>\n",
       "      <td>96946</td>\n",
       "      <td>95516</td>\n",
       "    </tr>\n",
       "    <tr>\n",
       "      <th>Unassigned_Secondary</th>\n",
       "      <td>0</td>\n",
       "      <td>0</td>\n",
       "      <td>0</td>\n",
       "      <td>0</td>\n",
       "      <td>0</td>\n",
       "      <td>0</td>\n",
       "    </tr>\n",
       "    <tr>\n",
       "      <th>Unassigned_NonSplit</th>\n",
       "      <td>0</td>\n",
       "      <td>0</td>\n",
       "      <td>0</td>\n",
       "      <td>0</td>\n",
       "      <td>0</td>\n",
       "      <td>0</td>\n",
       "    </tr>\n",
       "    <tr>\n",
       "      <th>Unassigned_NoFeatures</th>\n",
       "      <td>64606</td>\n",
       "      <td>72732</td>\n",
       "      <td>64485</td>\n",
       "      <td>58823</td>\n",
       "      <td>55364</td>\n",
       "      <td>62256</td>\n",
       "    </tr>\n",
       "    <tr>\n",
       "      <th>Unassigned_Overlapping_Length</th>\n",
       "      <td>0</td>\n",
       "      <td>0</td>\n",
       "      <td>0</td>\n",
       "      <td>0</td>\n",
       "      <td>0</td>\n",
       "      <td>0</td>\n",
       "    </tr>\n",
       "    <tr>\n",
       "      <th>Unassigned_Ambiguity</th>\n",
       "      <td>20585</td>\n",
       "      <td>20321</td>\n",
       "      <td>20683</td>\n",
       "      <td>20026</td>\n",
       "      <td>20822</td>\n",
       "      <td>19040</td>\n",
       "    </tr>\n",
       "  </tbody>\n",
       "</table>\n",
       "</div>"
      ],
      "text/plain": [
       "                                                                       treated_1  \\\n",
       "0                                                                                  \n",
       "Status                         ../../csl_results/example_dataset/data/star/tr...   \n",
       "Assigned                                                                  734333   \n",
       "Unassigned_Unmapped                                                            0   \n",
       "Unassigned_Read_Type                                                           0   \n",
       "Unassigned_Singleton                                                           0   \n",
       "Unassigned_MappingQuality                                                      0   \n",
       "Unassigned_Chimera                                                             0   \n",
       "Unassigned_FragmentLength                                                      0   \n",
       "Unassigned_Duplicate                                                           0   \n",
       "Unassigned_MultiMapping                                                    93450   \n",
       "Unassigned_Secondary                                                           0   \n",
       "Unassigned_NonSplit                                                            0   \n",
       "Unassigned_NoFeatures                                                      64606   \n",
       "Unassigned_Overlapping_Length                                                  0   \n",
       "Unassigned_Ambiguity                                                       20585   \n",
       "\n",
       "                                                                       treated_2  \\\n",
       "0                                                                                  \n",
       "Status                         ../../csl_results/example_dataset/data/star/tr...   \n",
       "Assigned                                                                  729007   \n",
       "Unassigned_Unmapped                                                            0   \n",
       "Unassigned_Read_Type                                                           0   \n",
       "Unassigned_Singleton                                                           0   \n",
       "Unassigned_MappingQuality                                                      0   \n",
       "Unassigned_Chimera                                                             0   \n",
       "Unassigned_FragmentLength                                                      0   \n",
       "Unassigned_Duplicate                                                           0   \n",
       "Unassigned_MultiMapping                                                    93406   \n",
       "Unassigned_Secondary                                                           0   \n",
       "Unassigned_NonSplit                                                            0   \n",
       "Unassigned_NoFeatures                                                      72732   \n",
       "Unassigned_Overlapping_Length                                                  0   \n",
       "Unassigned_Ambiguity                                                       20321   \n",
       "\n",
       "                                                                       treated_3  \\\n",
       "0                                                                                  \n",
       "Status                         ../../csl_results/example_dataset/data/star/tr...   \n",
       "Assigned                                                                  737339   \n",
       "Unassigned_Unmapped                                                            0   \n",
       "Unassigned_Read_Type                                                           0   \n",
       "Unassigned_Singleton                                                           0   \n",
       "Unassigned_MappingQuality                                                      0   \n",
       "Unassigned_Chimera                                                             0   \n",
       "Unassigned_FragmentLength                                                      0   \n",
       "Unassigned_Duplicate                                                           0   \n",
       "Unassigned_MultiMapping                                                    94282   \n",
       "Unassigned_Secondary                                                           0   \n",
       "Unassigned_NonSplit                                                            0   \n",
       "Unassigned_NoFeatures                                                      64485   \n",
       "Unassigned_Overlapping_Length                                                  0   \n",
       "Unassigned_Ambiguity                                                       20683   \n",
       "\n",
       "                                                                       control_1  \\\n",
       "0                                                                                  \n",
       "Status                         ../../csl_results/example_dataset/data/star/co...   \n",
       "Assigned                                                                  734436   \n",
       "Unassigned_Unmapped                                                            0   \n",
       "Unassigned_Read_Type                                                           0   \n",
       "Unassigned_Singleton                                                           0   \n",
       "Unassigned_MappingQuality                                                      0   \n",
       "Unassigned_Chimera                                                             0   \n",
       "Unassigned_FragmentLength                                                      0   \n",
       "Unassigned_Duplicate                                                           0   \n",
       "Unassigned_MultiMapping                                                   100872   \n",
       "Unassigned_Secondary                                                           0   \n",
       "Unassigned_NonSplit                                                            0   \n",
       "Unassigned_NoFeatures                                                      58823   \n",
       "Unassigned_Overlapping_Length                                                  0   \n",
       "Unassigned_Ambiguity                                                       20026   \n",
       "\n",
       "                                                                       control_2  \\\n",
       "0                                                                                  \n",
       "Status                         ../../csl_results/example_dataset/data/star/co...   \n",
       "Assigned                                                                  744667   \n",
       "Unassigned_Unmapped                                                            0   \n",
       "Unassigned_Read_Type                                                           0   \n",
       "Unassigned_Singleton                                                           0   \n",
       "Unassigned_MappingQuality                                                      0   \n",
       "Unassigned_Chimera                                                             0   \n",
       "Unassigned_FragmentLength                                                      0   \n",
       "Unassigned_Duplicate                                                           0   \n",
       "Unassigned_MultiMapping                                                    96946   \n",
       "Unassigned_Secondary                                                           0   \n",
       "Unassigned_NonSplit                                                            0   \n",
       "Unassigned_NoFeatures                                                      55364   \n",
       "Unassigned_Overlapping_Length                                                  0   \n",
       "Unassigned_Ambiguity                                                       20822   \n",
       "\n",
       "                                                                       control_3  \n",
       "0                                                                                 \n",
       "Status                         ../../csl_results/example_dataset/data/star/co...  \n",
       "Assigned                                                                  734978  \n",
       "Unassigned_Unmapped                                                            0  \n",
       "Unassigned_Read_Type                                                           0  \n",
       "Unassigned_Singleton                                                           0  \n",
       "Unassigned_MappingQuality                                                      0  \n",
       "Unassigned_Chimera                                                             0  \n",
       "Unassigned_FragmentLength                                                      0  \n",
       "Unassigned_Duplicate                                                           0  \n",
       "Unassigned_MultiMapping                                                    95516  \n",
       "Unassigned_Secondary                                                           0  \n",
       "Unassigned_NonSplit                                                            0  \n",
       "Unassigned_NoFeatures                                                      62256  \n",
       "Unassigned_Overlapping_Length                                                  0  \n",
       "Unassigned_Ambiguity                                                       19040  "
      ]
     },
     "execution_count": 15,
     "metadata": {},
     "output_type": "execute_result"
    }
   ],
   "source": [
    "\n",
    "counts_summary = csl.featurecounts_ListDir(prefix,count_prefix_list); counts_summary\n"
   ]
  },
  {
   "cell_type": "markdown",
   "metadata": {},
   "source": [
    "### Quantification step: Create count matrix file by merging feature counts from each sample"
   ]
  },
  {
   "cell_type": "code",
   "execution_count": 8,
   "metadata": {},
   "outputs": [
    {
     "name": "stdout",
     "output_type": "stream",
     "text": [
      "Count matrix is stored in ../../csl_results/example_dataset/data/counts/\n"
     ]
    },
    {
     "data": {
      "text/html": [
       "<div>\n",
       "<style scoped>\n",
       "    .dataframe tbody tr th:only-of-type {\n",
       "        vertical-align: middle;\n",
       "    }\n",
       "\n",
       "    .dataframe tbody tr th {\n",
       "        vertical-align: top;\n",
       "    }\n",
       "\n",
       "    .dataframe thead th {\n",
       "        text-align: right;\n",
       "    }\n",
       "</style>\n",
       "<table border=\"1\" class=\"dataframe\">\n",
       "  <thead>\n",
       "    <tr style=\"text-align: right;\">\n",
       "      <th></th>\n",
       "      <th>control_1</th>\n",
       "      <th>control_2</th>\n",
       "      <th>control_3</th>\n",
       "      <th>treated_1</th>\n",
       "      <th>treated_2</th>\n",
       "      <th>treated_3</th>\n",
       "    </tr>\n",
       "    <tr>\n",
       "      <th>Geneid</th>\n",
       "      <th></th>\n",
       "      <th></th>\n",
       "      <th></th>\n",
       "      <th></th>\n",
       "      <th></th>\n",
       "      <th></th>\n",
       "    </tr>\n",
       "  </thead>\n",
       "  <tbody>\n",
       "    <tr>\n",
       "      <th>4933401J01Rik</th>\n",
       "      <td>0</td>\n",
       "      <td>0</td>\n",
       "      <td>0</td>\n",
       "      <td>0</td>\n",
       "      <td>0</td>\n",
       "      <td>0</td>\n",
       "    </tr>\n",
       "    <tr>\n",
       "      <th>Gm26206</th>\n",
       "      <td>0</td>\n",
       "      <td>0</td>\n",
       "      <td>0</td>\n",
       "      <td>0</td>\n",
       "      <td>0</td>\n",
       "      <td>0</td>\n",
       "    </tr>\n",
       "    <tr>\n",
       "      <th>Xkr4</th>\n",
       "      <td>0</td>\n",
       "      <td>0</td>\n",
       "      <td>0</td>\n",
       "      <td>0</td>\n",
       "      <td>0</td>\n",
       "      <td>0</td>\n",
       "    </tr>\n",
       "    <tr>\n",
       "      <th>Gm18956</th>\n",
       "      <td>0</td>\n",
       "      <td>0</td>\n",
       "      <td>0</td>\n",
       "      <td>0</td>\n",
       "      <td>0</td>\n",
       "      <td>0</td>\n",
       "    </tr>\n",
       "    <tr>\n",
       "      <th>Gm37180</th>\n",
       "      <td>0</td>\n",
       "      <td>0</td>\n",
       "      <td>0</td>\n",
       "      <td>0</td>\n",
       "      <td>0</td>\n",
       "      <td>0</td>\n",
       "    </tr>\n",
       "    <tr>\n",
       "      <th>...</th>\n",
       "      <td>...</td>\n",
       "      <td>...</td>\n",
       "      <td>...</td>\n",
       "      <td>...</td>\n",
       "      <td>...</td>\n",
       "      <td>...</td>\n",
       "    </tr>\n",
       "    <tr>\n",
       "      <th>mt-Nd6</th>\n",
       "      <td>709</td>\n",
       "      <td>493</td>\n",
       "      <td>633</td>\n",
       "      <td>497</td>\n",
       "      <td>517</td>\n",
       "      <td>484</td>\n",
       "    </tr>\n",
       "    <tr>\n",
       "      <th>mt-Te</th>\n",
       "      <td>1</td>\n",
       "      <td>5</td>\n",
       "      <td>2</td>\n",
       "      <td>3</td>\n",
       "      <td>0</td>\n",
       "      <td>0</td>\n",
       "    </tr>\n",
       "    <tr>\n",
       "      <th>mt-Cytb</th>\n",
       "      <td>2805</td>\n",
       "      <td>2530</td>\n",
       "      <td>2860</td>\n",
       "      <td>2081</td>\n",
       "      <td>2194</td>\n",
       "      <td>2186</td>\n",
       "    </tr>\n",
       "    <tr>\n",
       "      <th>mt-Tt</th>\n",
       "      <td>0</td>\n",
       "      <td>0</td>\n",
       "      <td>0</td>\n",
       "      <td>0</td>\n",
       "      <td>3</td>\n",
       "      <td>0</td>\n",
       "    </tr>\n",
       "    <tr>\n",
       "      <th>mt-Tp</th>\n",
       "      <td>12</td>\n",
       "      <td>14</td>\n",
       "      <td>7</td>\n",
       "      <td>15</td>\n",
       "      <td>12</td>\n",
       "      <td>8</td>\n",
       "    </tr>\n",
       "  </tbody>\n",
       "</table>\n",
       "<p>54456 rows × 6 columns</p>\n",
       "</div>"
      ],
      "text/plain": [
       "               control_1  control_2  control_3  treated_1  treated_2  \\\n",
       "Geneid                                                                 \n",
       "4933401J01Rik          0          0          0          0          0   \n",
       "Gm26206                0          0          0          0          0   \n",
       "Xkr4                   0          0          0          0          0   \n",
       "Gm18956                0          0          0          0          0   \n",
       "Gm37180                0          0          0          0          0   \n",
       "...                  ...        ...        ...        ...        ...   \n",
       "mt-Nd6               709        493        633        497        517   \n",
       "mt-Te                  1          5          2          3          0   \n",
       "mt-Cytb             2805       2530       2860       2081       2194   \n",
       "mt-Tt                  0          0          0          0          3   \n",
       "mt-Tp                 12         14          7         15         12   \n",
       "\n",
       "               treated_3  \n",
       "Geneid                    \n",
       "4933401J01Rik          0  \n",
       "Gm26206                0  \n",
       "Xkr4                   0  \n",
       "Gm18956                0  \n",
       "Gm37180                0  \n",
       "...                  ...  \n",
       "mt-Nd6               484  \n",
       "mt-Te                  0  \n",
       "mt-Cytb             2186  \n",
       "mt-Tt                  0  \n",
       "mt-Tp                  8  \n",
       "\n",
       "[54456 rows x 6 columns]"
      ]
     },
     "execution_count": 8,
     "metadata": {},
     "output_type": "execute_result"
    }
   ],
   "source": [
    "\n",
    "outpath_counts,count_matrix = csl.featurecounts_CreateCountMatrix(); count_matrix\n"
   ]
  },
  {
   "cell_type": "markdown",
   "metadata": {},
   "source": [
    "### [Click here if you want to return to very beginning](#starting_point)"
   ]
  },
  {
   "cell_type": "markdown",
   "metadata": {},
   "source": [
    "### ======================================================================================\n",
    "<a id='deseq2_point'></a>"
   ]
  },
  {
   "cell_type": "markdown",
   "metadata": {},
   "source": [
    "# <font color='darkblue'> (Optional) RSEM for gene and isoform count quantification in FPKM and TPM"
   ]
  },
  {
   "cell_type": "markdown",
   "metadata": {},
   "source": [
    "### Quantification step: Prepare required variables"
   ]
  },
  {
   "cell_type": "code",
   "execution_count": null,
   "metadata": {},
   "outputs": [],
   "source": [
    "\n",
    "if ('out_dir' in globals()) & ('genome' in globals()): scriptpath_rsem,rsem_index,bam_list,count_prefix_list,prefix,feature,strandBED,bamTranscript_list = csl.rsem_Prep(genome,out_dir,pairing)\n",
    "else: \n",
    "    genome,pairing,out_dir=csl.rsem_PrepDirect(); scriptpath_rsem,rsem_index,bam_list,count_prefix_list,prefix,feature,strandBED,bamTranscript_list = csl.rsem_Prep(genome,out_dir,pairing)\n"
   ]
  },
  {
   "cell_type": "markdown",
   "metadata": {},
   "source": [
    "### Quantification step: Run feature quantification of the alignment files (BAM) with genome annotation"
   ]
  },
  {
   "cell_type": "code",
   "execution_count": null,
   "metadata": {},
   "outputs": [],
   "source": [
    "\n",
    "if 'jobid_rsem' in globals(): csl.DeleteJobs(jobid_rsem)\n",
    "jobid_rsem = csl.rsem_RunQuantification(scriptpath_rsem,rsem_index,bam_list,count_prefix_list,feature,strandBED,bamTranscript_list); csl.Qstat(jobid_rsem)\n"
   ]
  },
  {
   "cell_type": "markdown",
   "metadata": {},
   "source": [
    "### Quantification step: Create count matrix file by merging feature counts from each sample"
   ]
  },
  {
   "cell_type": "code",
   "execution_count": null,
   "metadata": {},
   "outputs": [],
   "source": [
    "\n",
    "outpath_counts,gene_tpm_matrix,gene_fpkm_matrix,isoform_tpm_matrix,isoform_fpkm_matrix = csl.rsem_CreateCountMatrix(); print(isoform_tpm_matrix); gene_tpm_matrix\n"
   ]
  },
  {
   "cell_type": "markdown",
   "metadata": {},
   "source": [
    "### [Click here if you want to return to very beginning](#starting_point)"
   ]
  },
  {
   "cell_type": "markdown",
   "metadata": {},
   "source": [
    "### ======================================================================================\n",
    "<a id='deseq2_point'></a>"
   ]
  },
  {
   "cell_type": "markdown",
   "metadata": {},
   "source": [
    "# <font color='darkblue'> DESeq2 for differential analysis"
   ]
  },
  {
   "cell_type": "markdown",
   "metadata": {},
   "source": [
    "### Differential analysis step: Prepare required variables"
   ]
  },
  {
   "cell_type": "code",
   "execution_count": 9,
   "metadata": {},
   "outputs": [
    {
     "name": "stdout",
     "output_type": "stream",
     "text": [
      "DESeq2 results are stored in ../../csl_results/example_dataset/data/deseq2/\n",
      "========================================\n",
      "Here's the list of phenotypes/conditions/experiments\n",
      "treatment:\n",
      "{'control', 'treated'}\n",
      "========================================\n",
      "Which phenotype/condition/replicate/batch should be the reference/baseline?(e.g control)\n",
      "control\n",
      "========================================\n",
      "Which phenotype/condition/replicate/batch to compare?(e.g treated)\n",
      "treated\n"
     ]
    }
   ],
   "source": [
    "\n",
    "if ('outpath_counts' in globals()) & ('inpath_design' in globals()): scriptpath_deseq2,Rpath_deseq2,outpath,refcond,compared,design_var,redundant = csl.deseq2_Prep(inpath_design)\n",
    "else:\n",
    "    outpath_counts,inpath_design = csl.deseq2_PrepDirect(); scriptpath_deseq2,Rpath_deseq2,outpath,refcond,compared,design_var,redundant = csl.deseq2_Prep(inpath_design)\n",
    " "
   ]
  },
  {
   "cell_type": "markdown",
   "metadata": {},
   "source": [
    "### Differential analysis step: Run differential analysis below"
   ]
  },
  {
   "cell_type": "code",
   "execution_count": 10,
   "metadata": {
    "scrolled": true
   },
   "outputs": [
    {
     "name": "stdout",
     "output_type": "stream",
     "text": [
      "All jobs done !\n",
      ".........................\n",
      "Running time: 0.51 minutes\n"
     ]
    }
   ],
   "source": [
    "\n",
    "if 'jobid_DESeq2' in globals(): csl.DeleteOneJob(jobid_DESeq2)\n",
    "jobid_DESeq2 = csl.deseq2_RunDE(scriptpath_deseq2,Rpath_deseq2,outpath_counts,inpath_design,outpath,refcond,compared,redundant); csl.Qstat(jobid_DESeq2)\n"
   ]
  },
  {
   "cell_type": "markdown",
   "metadata": {},
   "source": [
    "### Differential analysis step: Show the list of differentially expressed genes"
   ]
  },
  {
   "cell_type": "code",
   "execution_count": 11,
   "metadata": {},
   "outputs": [
    {
     "data": {
      "text/html": [
       "<div>\n",
       "<style scoped>\n",
       "    .dataframe tbody tr th:only-of-type {\n",
       "        vertical-align: middle;\n",
       "    }\n",
       "\n",
       "    .dataframe tbody tr th {\n",
       "        vertical-align: top;\n",
       "    }\n",
       "\n",
       "    .dataframe thead th {\n",
       "        text-align: right;\n",
       "    }\n",
       "</style>\n",
       "<table border=\"1\" class=\"dataframe\">\n",
       "  <thead>\n",
       "    <tr style=\"text-align: right;\">\n",
       "      <th></th>\n",
       "      <th>baseMean</th>\n",
       "      <th>log2FoldChange</th>\n",
       "      <th>lfcSE</th>\n",
       "      <th>pvalue</th>\n",
       "      <th>padj</th>\n",
       "    </tr>\n",
       "  </thead>\n",
       "  <tbody>\n",
       "    <tr>\n",
       "      <th>S100a9</th>\n",
       "      <td>581.686236</td>\n",
       "      <td>2.624984</td>\n",
       "      <td>0.094850</td>\n",
       "      <td>1.008615e-169</td>\n",
       "      <td>2.591131e-166</td>\n",
       "    </tr>\n",
       "    <tr>\n",
       "      <th>S100a8</th>\n",
       "      <td>552.760501</td>\n",
       "      <td>2.423435</td>\n",
       "      <td>0.096643</td>\n",
       "      <td>6.094627e-140</td>\n",
       "      <td>7.828548e-137</td>\n",
       "    </tr>\n",
       "    <tr>\n",
       "      <th>Olfm4</th>\n",
       "      <td>345.528165</td>\n",
       "      <td>2.209004</td>\n",
       "      <td>0.113189</td>\n",
       "      <td>5.323090e-86</td>\n",
       "      <td>4.558339e-83</td>\n",
       "    </tr>\n",
       "    <tr>\n",
       "      <th>Ngp</th>\n",
       "      <td>132.718423</td>\n",
       "      <td>3.491891</td>\n",
       "      <td>0.220116</td>\n",
       "      <td>1.599498e-57</td>\n",
       "      <td>1.027277e-54</td>\n",
       "    </tr>\n",
       "    <tr>\n",
       "      <th>Cstdc5</th>\n",
       "      <td>565.233734</td>\n",
       "      <td>1.166185</td>\n",
       "      <td>0.087898</td>\n",
       "      <td>1.920989e-41</td>\n",
       "      <td>9.870040e-39</td>\n",
       "    </tr>\n",
       "    <tr>\n",
       "      <th>...</th>\n",
       "      <td>...</td>\n",
       "      <td>...</td>\n",
       "      <td>...</td>\n",
       "      <td>...</td>\n",
       "      <td>...</td>\n",
       "    </tr>\n",
       "    <tr>\n",
       "      <th>Sh3kbp1</th>\n",
       "      <td>108.419912</td>\n",
       "      <td>0.000108</td>\n",
       "      <td>0.080120</td>\n",
       "      <td>9.987594e-01</td>\n",
       "      <td>9.998801e-01</td>\n",
       "    </tr>\n",
       "    <tr>\n",
       "      <th>Drosha</th>\n",
       "      <td>83.733875</td>\n",
       "      <td>0.000081</td>\n",
       "      <td>0.082270</td>\n",
       "      <td>9.991961e-01</td>\n",
       "      <td>9.998801e-01</td>\n",
       "    </tr>\n",
       "    <tr>\n",
       "      <th>Ctsa</th>\n",
       "      <td>108.115983</td>\n",
       "      <td>0.000029</td>\n",
       "      <td>0.080430</td>\n",
       "      <td>9.996494e-01</td>\n",
       "      <td>9.998801e-01</td>\n",
       "    </tr>\n",
       "    <tr>\n",
       "      <th>Vav1</th>\n",
       "      <td>149.682560</td>\n",
       "      <td>0.000594</td>\n",
       "      <td>0.079230</td>\n",
       "      <td>9.996919e-01</td>\n",
       "      <td>9.998801e-01</td>\n",
       "    </tr>\n",
       "    <tr>\n",
       "      <th>Psmd2</th>\n",
       "      <td>286.010483</td>\n",
       "      <td>0.000081</td>\n",
       "      <td>0.070228</td>\n",
       "      <td>9.998801e-01</td>\n",
       "      <td>9.998801e-01</td>\n",
       "    </tr>\n",
       "  </tbody>\n",
       "</table>\n",
       "<p>2569 rows × 5 columns</p>\n",
       "</div>"
      ],
      "text/plain": [
       "           baseMean  log2FoldChange     lfcSE         pvalue           padj\n",
       "S100a9   581.686236        2.624984  0.094850  1.008615e-169  2.591131e-166\n",
       "S100a8   552.760501        2.423435  0.096643  6.094627e-140  7.828548e-137\n",
       "Olfm4    345.528165        2.209004  0.113189   5.323090e-86   4.558339e-83\n",
       "Ngp      132.718423        3.491891  0.220116   1.599498e-57   1.027277e-54\n",
       "Cstdc5   565.233734        1.166185  0.087898   1.920989e-41   9.870040e-39\n",
       "...             ...             ...       ...            ...            ...\n",
       "Sh3kbp1  108.419912        0.000108  0.080120   9.987594e-01   9.998801e-01\n",
       "Drosha    83.733875        0.000081  0.082270   9.991961e-01   9.998801e-01\n",
       "Ctsa     108.115983        0.000029  0.080430   9.996494e-01   9.998801e-01\n",
       "Vav1     149.682560        0.000594  0.079230   9.996919e-01   9.998801e-01\n",
       "Psmd2    286.010483        0.000081  0.070228   9.998801e-01   9.998801e-01\n",
       "\n",
       "[2569 rows x 5 columns]"
      ]
     },
     "execution_count": 11,
     "metadata": {},
     "output_type": "execute_result"
    }
   ],
   "source": [
    "\n",
    "deg = pd.read_table(outpath+'/DEG_'+compared+'_vs_'+refcond+'(ref).txt',index_col=0); deg\n"
   ]
  },
  {
   "cell_type": "markdown",
   "metadata": {},
   "source": [
    "### [Click here if you want to return to very beginning](#starting_point)\n",
    "<a id='visualization_point'></a>"
   ]
  },
  {
   "cell_type": "markdown",
   "metadata": {},
   "source": [
    "### ======================================================================================"
   ]
  },
  {
   "cell_type": "markdown",
   "metadata": {},
   "source": [
    "# <font color='darkblue'> GSEApy for Pathway Analysis"
   ]
  },
  {
   "cell_type": "markdown",
   "metadata": {},
   "source": [
    "### Pathway analysis step: Prepare required variables"
   ]
  },
  {
   "cell_type": "code",
   "execution_count": 9,
   "metadata": {},
   "outputs": [{}],
   "source": [
    "\n",
    "if ('feature' in globals()) & ('inpath_design' in globals()): geneset,outpath_pathway = csl.gseapy_Prep()\n",
    "else:\n",
    "    geneset,genome,feature,inpath_design,outpath,outpath_pathway,refcond,compared = csl.gseapy_PrepDirect()\n",
    " "
   ]
  },
  {
   "cell_type": "markdown",
   "metadata": {},
   "source": [
    "### Pathway analysis step: Run pathway analysis below"
   ]
  },
  {
   "cell_type": "code",
   "execution_count": 10,
   "metadata": {
    "scrolled": true
   },
   "outputs": [{}],
   "source": [
    "\n",
    "gs,gs_res,pathways,terms,project_name = csl.gseapy_RunPathway(geneset,genome,feature,inpath_design,outpath,outpath_pathway,refcond,compared)\n",
    " "
   ]
  },
  {
   "cell_type": "markdown",
   "metadata": {},
   "source": [
    "### Pathway analysis step: Show the list of Top 10 enriched pathways"
   ]
  },
  {
   "cell_type": "code",
   "execution_count": 11,
   "metadata": {},
   "outputs": [{}],
   "source": [
    "\n",
    "pathlist = pd.read_csv(outpath_pathway+'/gseapy.gene_set.gsea.report.csv',index_col=None); pathlist.iloc[:10,:]\n",
    " "
   ]
  },
  {
   "cell_type": "markdown",
   "metadata": {},
   "source": [
    "### Pathway analysis step: Visualize enrichment plot of Top 10 pathways"
   ]
  },
  {
   "cell_type": "code",
   "execution_count": 11,
   "metadata": {},
   "outputs": [{}],
   "source": [
    "\n",
    "axs = gs.plot(terms[:10], show_ranking=False, legend_kws={'loc': (1.05, 0)}, )\n",
    " "
   ]
  },
  {
   "cell_type": "markdown",
   "metadata": {},
   "source": [
    "### Pathway analysis step: Visualize dotplot of Top 10 pathways"
   ]
  },
  {
   "cell_type": "code",
   "execution_count": 11,
   "metadata": {},
   "outputs": [{}],
   "source": [
    "\n",
    "dot = csl.gseapy_DotPlot(pathways,geneset)\n",
    " "
   ]
  },
  {
   "cell_type": "markdown",
   "metadata": {},
   "source": [
    "### Pathway analysis step: Visualize enrichment plot of a selected pathway"
   ]
  },
  {
   "cell_type": "code",
   "execution_count": 11,
   "metadata": {},
   "outputs": [{}],
   "source": [
    "\n",
    "enrich = csl.gseapy_EnrichPlot(pathways,gs)\n",
    " "
   ]
  },
  {
   "cell_type": "markdown",
   "metadata": {},
   "source": [
    "### Pathway analysis step: Visualize heatmap plot of a selected pathway"
   ]
  },
  {
   "cell_type": "code",
   "execution_count": 11,
   "metadata": {},
   "outputs": [{}],
   "source": [
    "\n",
    "heatgsea = csl.gseapy_heatmap(pathways,gs)\n",
    " "
   ]
  },
  {
   "cell_type": "markdown",
   "metadata": {},
   "source": [
    "### [Click here if you want to return to very beginning](#starting_point)\n",
    "<a id='visualization_point'></a>"
   ]
  },
  {
   "cell_type": "markdown",
   "metadata": {},
   "source": [
    "### ======================================================================================"
   ]
  },
  {
   "cell_type": "markdown",
   "metadata": {},
   "source": [
    "# <font color='darkblue'> Visualization with heatmap, PCA, volcano, and MA plots"
   ]
  },
  {
   "cell_type": "markdown",
   "metadata": {},
   "source": [
    "### Visualization step: Visualize the heatmap of top 50 significant differential genes or provide your own genelist.txt (max 50 genes)"
   ]
  },
  {
   "cell_type": "code",
   "execution_count": 12,
   "metadata": {},
   "outputs": [
    {
     "name": "stdout",
     "output_type": "stream",
     "text": [
      "Provide path to folder containing genelist.txt (max 50 genes). To plot the top 50 differential genes from DESeq2 instead, type 'top50'\n",
      "top50\n"
     ]
    },
    {
     "data": {
      "image/png": "[encoded data removed]",
      "text/plain": [
       "<Figure size 3000x3000 with 5 Axes>"
      ]
     },
     "metadata": {
      "needs_background": "light"
     },
     "output_type": "display_data"
    }
   ],
   "source": [
    "\n",
    "if ('inpath_design' in globals()) & ('outpath' in globals()) & ('refcond' in globals()) & ('compared' in globals()): heat = csl.visualization_heatmap(inpath_design,outpath,refcond,compared); heat\n",
    "else: \n",
    "    inpath_design,outpath,refcond,compared=csl.visualization_PrepDirect(); heat = csl.visualization_heatmap(inpath_design,outpath,refcond,compared); heat\n"
   ]
  },
  {
   "cell_type": "markdown",
   "metadata": {},
   "source": [
    "### Visualization step: Visualize the PC plot below\n",
    "<a id='visualization_point'></a>"
   ]
  },
  {
   "cell_type": "code",
   "execution_count": 13,
   "metadata": {},
   "outputs": [
    {
     "name": "stdout",
     "output_type": "stream",
     "text": [
      "Here's the list of phenotype/condition/replicate/batch:\n",
      "Index\n",
      "           0\n",
      "0  treatment\n",
      "==================================\n",
      "Which index of phenotype/condition/replicate/batch to view PC plot?\n",
      "0\n"
     ]
    },
    {
     "data": {
      "image/png": "[encoded data removed]",
      "text/plain": [
       "<IPython.core.display.Image object>"
      ]
     },
     "execution_count": 13,
     "metadata": {},
     "output_type": "execute_result"
    }
   ],
   "source": [
    "\n",
    "from IPython.display import Image; outpath,inpca,design_var = csl.visualization_pca(design_var); Image(outpath+\"/pca_\"+design_var.iloc[inpca,0]+\"_\"+compared+\"_vs_\"+refcond+\"(ref).png\")\n"
   ]
  },
  {
   "cell_type": "markdown",
   "metadata": {},
   "source": [
    "### Visualization step: Visualize the MA plot below\n",
    "<a id='visualization_point'></a>"
   ]
  },
  {
   "cell_type": "code",
   "execution_count": 14,
   "metadata": {},
   "outputs": [
    {
     "data": {
      "image/png": "[encoded data removed]",
      "text/plain": [
       "<IPython.core.display.Image object>"
      ]
     },
     "execution_count": 14,
     "metadata": {},
     "output_type": "execute_result"
    }
   ],
   "source": [
    "\n",
    "from IPython.display import Image; Image(outpath+\"/MAplot_\"+compared+'_vs_'+refcond+\"(ref).png\")\n"
   ]
  },
  {
   "cell_type": "markdown",
   "metadata": {},
   "source": [
    "### Visualization step: Visualize the volcano plot below \n",
    "<a id='visualization_point'></a>"
   ]
  },
  {
   "cell_type": "code",
   "execution_count": null,
   "metadata": {},
   "outputs": [],
   "source": [
    "\n",
    "from IPython.display import Image; Image(outpath+\"/volcano_\"+compared+'_vs_'+refcond+\"(ref).png\")\n"
   ]
  },
  {
   "cell_type": "markdown",
   "metadata": {},
   "source": [
    "### [Click here if you want to return to very beginning](#starting_point)\n",
    "<a id='FindCopyResults_point'></a>"
   ]
  },
  {
   "cell_type": "markdown",
   "metadata": {},
   "source": [
    "### ======================================================================================"
   ]
  },
  {
   "cell_type": "markdown",
   "metadata": {},
   "source": [
    "# <font color='darkblue'> Find the result contents and locations"
   ]
  },
  {
   "cell_type": "code",
   "execution_count": 15,
   "metadata": {},
   "outputs": [
    {
     "name": "stdout",
     "output_type": "stream",
     "text": [
      "../../csl_results/\n",
      "└── example_dataset\n",
      "    ├── data\n",
      "    │   ├── counts\n",
      "    │   │   ├── count_matrix.txt\n",
      "    │   │   └── featurecounts_summary.txt\n",
      "    │   ├── deseq2\n",
      "    │   │   ├── DEG_fdr0.05_treated_vs_control(ref).txt\n",
      "    │   │   ├── DEG_treated_vs_control(ref).txt\n",
      "    │   │   ├── heatmap_treatment.png\n",
      "    │   │   ├── MAplot_treated_vs_control(ref).png\n",
      "    │   │   ├── normalized_counts.txt\n",
      "    │   │   └── pca_treatment.png\n",
      "    │   ├── fastq\n",
      "    │   │   ├── control_1_R1_001.fastq.gz\n",
      "    │   │   ├── control_1_R2_001.fastq.gz\n",
      "    │   │   ├── control_2_R1_001.fastq.gz\n",
      "    │   │   ├── control_2_R2_001.fastq.gz\n",
      "    │   │   ├── control_3_R1_001.fastq.gz\n",
      "    │   │   ├── control_3_R2_001.fastq.gz\n",
      "    │   │   ├── treated_1_R1_001.fastq.gz\n",
      "    │   │   ├── treated_1_R2_001.fastq.gz\n",
      "    │   │   ├── treated_2_R1_001.fastq.gz\n",
      "    │   │   ├── treated_2_R2_001.fastq.gz\n",
      "    │   │   ├── treated_3_R1_001.fastq.gz\n",
      "    │   │   └── treated_3_R2_001.fastq.gz\n",
      "    │   ├── fastqc\n",
      "    │   │   ├── control_1_R1_001_fastqc.html\n",
      "    │   │   ├── control_1_R1_001_fastqc.zip\n",
      "    │   │   ├── control_1_R1_001_screen.html\n",
      "    │   │   ├── control_1_R1_001_screen.txt\n",
      "    │   │   ├── control_1_R2_001_fastqc.html\n",
      "    │   │   ├── control_1_R2_001_fastqc.zip\n",
      "    │   │   ├── control_1_R2_001_screen.html\n",
      "    │   │   ├── control_1_R2_001_screen.txt\n",
      "    │   │   ├── control_2_R1_001_fastqc.html\n",
      "    │   │   ├── control_2_R1_001_fastqc.zip\n",
      "    │   │   ├── control_2_R1_001_screen.html\n",
      "    │   │   ├── control_2_R1_001_screen.txt\n",
      "    │   │   ├── control_2_R2_001_fastqc.html\n",
      "    │   │   ├── control_2_R2_001_fastqc.zip\n",
      "    │   │   ├── control_2_R2_001_screen.html\n",
      "    │   │   ├── control_2_R2_001_screen.txt\n",
      "    │   │   ├── control_3_R1_001_fastqc.html\n",
      "    │   │   ├── control_3_R1_001_fastqc.zip\n",
      "    │   │   ├── control_3_R1_001_screen.html\n",
      "    │   │   ├── control_3_R1_001_screen.txt\n",
      "    │   │   ├── control_3_R2_001_fastqc.html\n",
      "    │   │   ├── control_3_R2_001_fastqc.zip\n",
      "    │   │   ├── control_3_R2_001_screen.html\n",
      "    │   │   ├── control_3_R2_001_screen.txt\n",
      "    │   │   ├── treated_1_R1_001_fastqc.html\n",
      "    │   │   ├── treated_1_R1_001_fastqc.zip\n",
      "    │   │   ├── treated_1_R1_001_screen.html\n",
      "    │   │   ├── treated_1_R1_001_screen.txt\n",
      "    │   │   ├── treated_1_R2_001_fastqc.html\n",
      "    │   │   ├── treated_1_R2_001_fastqc.zip\n",
      "    │   │   ├── treated_1_R2_001_screen.html\n",
      "    │   │   ├── treated_1_R2_001_screen.txt\n",
      "    │   │   ├── treated_2_R1_001_fastqc.html\n",
      "    │   │   ├── treated_2_R1_001_fastqc.zip\n",
      "    │   │   ├── treated_2_R1_001_screen.html\n",
      "    │   │   ├── treated_2_R1_001_screen.txt\n",
      "    │   │   ├── treated_2_R2_001_fastqc.html\n",
      "    │   │   ├── treated_2_R2_001_fastqc.zip\n",
      "    │   │   ├── treated_2_R2_001_screen.html\n",
      "    │   │   ├── treated_2_R2_001_screen.txt\n",
      "    │   │   ├── treated_3_R1_001_fastqc.html\n",
      "    │   │   ├── treated_3_R1_001_fastqc.zip\n",
      "    │   │   ├── treated_3_R1_001_screen.html\n",
      "    │   │   ├── treated_3_R1_001_screen.txt\n",
      "    │   │   ├── treated_3_R2_001_fastqc.html\n",
      "    │   │   ├── treated_3_R2_001_fastqc.zip\n",
      "    │   │   ├── treated_3_R2_001_screen.html\n",
      "    │   │   └── treated_3_R2_001_screen.txt\n",
      "    │   ├── featurecounts\n",
      "    │   │   ├── control_1\n",
      "    │   │   │   ├── control_1_counts.txt\n",
      "    │   │   │   └── control_1_counts.txt.summary\n",
      "    │   │   ├── control_2\n",
      "    │   │   │   ├── control_2_counts.txt\n",
      "    │   │   │   └── control_2_counts.txt.summary\n",
      "    │   │   ├── control_3\n",
      "    │   │   │   ├── control_3_counts.txt\n",
      "    │   │   │   └── control_3_counts.txt.summary\n",
      "    │   │   ├── treated_1\n",
      "    │   │   │   ├── treated_1_counts.txt\n",
      "    │   │   │   └── treated_1_counts.txt.summary\n",
      "    │   │   ├── treated_2\n",
      "    │   │   │   ├── treated_2_counts.txt\n",
      "    │   │   │   └── treated_2_counts.txt.summary\n",
      "    │   │   └── treated_3\n",
      "    │   │       ├── treated_3_counts.txt\n",
      "    │   │       └── treated_3_counts.txt.summary\n",
      "    │   ├── star\n",
      "    │   │   ├── control_1\n",
      "    │   │   │   ├── control_1Aligned.sortedByCoord.out.bam\n",
      "    │   │   │   ├── control_1Log.final.out\n",
      "    │   │   │   ├── control_1Log.out\n",
      "    │   │   │   ├── control_1Log.progress.out\n",
      "    │   │   │   └── control_1SJ.out.tab\n",
      "    │   │   ├── control_2\n",
      "    │   │   │   ├── control_2Aligned.sortedByCoord.out.bam\n",
      "    │   │   │   ├── control_2Log.final.out\n",
      "    │   │   │   ├── control_2Log.out\n",
      "    │   │   │   ├── control_2Log.progress.out\n",
      "    │   │   │   └── control_2SJ.out.tab\n",
      "    │   │   ├── control_3\n",
      "    │   │   │   ├── control_3Aligned.sortedByCoord.out.bam\n",
      "    │   │   │   ├── control_3Log.final.out\n",
      "    │   │   │   ├── control_3Log.out\n",
      "    │   │   │   ├── control_3Log.progress.out\n",
      "    │   │   │   └── control_3SJ.out.tab\n",
      "    │   │   ├── treated_1\n",
      "    │   │   │   ├── treated_1Aligned.sortedByCoord.out.bam\n",
      "    │   │   │   ├── treated_1Log.final.out\n",
      "    │   │   │   ├── treated_1Log.out\n",
      "    │   │   │   ├── treated_1Log.progress.out\n",
      "    │   │   │   └── treated_1SJ.out.tab\n",
      "    │   │   ├── treated_2\n",
      "    │   │   │   ├── treated_2Aligned.sortedByCoord.out.bam\n",
      "    │   │   │   ├── treated_2Log.final.out\n",
      "    │   │   │   ├── treated_2Log.out\n",
      "    │   │   │   ├── treated_2Log.progress.out\n",
      "    │   │   │   └── treated_2SJ.out.tab\n",
      "    │   │   └── treated_3\n",
      "    │   │       ├── treated_3Aligned.sortedByCoord.out.bam\n",
      "    │   │       ├── treated_3Log.final.out\n",
      "    │   │       ├── treated_3Log.out\n",
      "    │   │       ├── treated_3Log.progress.out\n",
      "    │   │       └── treated_3SJ.out.tab\n",
      "    │   └── star_summary\n",
      "    │       └── summary_matrix.txt\n",
      "    └── log\n",
      "        ├── error_copyFastq.txt\n",
      "        ├── error_deseq2.txt\n",
      "        ├── error_star.txt\n",
      "        ├── output_copyFastq.txt\n",
      "        ├── output_deseq2.txt\n",
      "        └── output_star.txt\n",
      "\n",
      "22 directories, 117 files\n",
      "\n"
     ]
    }
   ],
   "source": [
    "\n",
    "csl.Tree()\n"
   ]
  },
  {
   "cell_type": "markdown",
   "metadata": {},
   "source": [
    "### ======================================================================================"
   ]
  },
  {
   "cell_type": "markdown",
   "metadata": {},
   "source": [
    "# <font color='darkblue'> Copy specific results to your local computer (e.g copy all differential analysis results)\n",
    "### Open <font color='darkred'> terminal/bash <font color='black'> on your local computer then <font color='darkred'> copy+paste <font color='black'> the following:\n",
    "scp -r TypeYourCshlUsername@bamdev1:~/csl_results/data/deseq2/ . \n",
    "### Change <font color='darkred'> TypeYourCshlUsername <font color='black'> into you actual <font color='darkred'> CSHL username <font color='black'>\n",
    "### Press <font color='darkred'> enter/return <font color='black'>\n",
    "### It will ask to type your <font color='darkred'> CSHL password <font color='black'>\n",
    "### The files will be downloaded to your home folder on your local computer \n"
   ]
  },
  {
   "cell_type": "code",
   "execution_count": null,
   "metadata": {},
   "outputs": [],
   "source": []
  }
 ],
 "metadata": {
  "kernelspec": {
   "display_name": "Python/3.7.4 (src)",
   "language": "python",
   "name": "python_3.7.4-gcccore-8.3.0"
  },
  "language_info": {
   "codemirror_mode": {
    "name": "ipython",
    "version": 3
   },
   "file_extension": ".py",
   "mimetype": "text/x-python",
   "name": "python",
   "nbconvert_exporter": "python",
   "pygments_lexer": "ipython3",
   "version": "3.7.4"
  }
 },
 "nbformat": 4,
 "nbformat_minor": 5
}
